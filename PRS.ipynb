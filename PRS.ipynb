{
  "cells": [
    {
      "cell_type": "code",
      "execution_count": 23,
      "metadata": {},
      "outputs": [
        {
          "name": "stdout",
          "output_type": "stream",
          "text": [
            "\u001b[33mWARNING: Skipping pandas-profiling as it is not installed.\u001b[0m\u001b[33m\n",
            "\u001b[0m"
          ]
        }
      ],
      "source": [
        "!pip3 uninstall pandas-profiling -y"
      ]
    },
    {
      "cell_type": "markdown",
      "metadata": {},
      "source": []
    },
    {
      "cell_type": "markdown",
      "metadata": {
        "id": "lzKWy4AEMs8o"
      },
      "source": [
        "Setting up environment"
      ]
    },
    {
      "cell_type": "code",
      "execution_count": 24,
      "metadata": {
        "colab": {
          "base_uri": "https://localhost:8080/"
        },
        "id": "jSkBWMNCLAaP",
        "outputId": "fc47564c-2a94-496d-8883-8c991c3a0d4e"
      },
      "outputs": [
        {
          "name": "stdout",
          "output_type": "stream",
          "text": [
            "Collecting pandas-profiling\n",
            "  Downloading pandas_profiling-3.2.0-py2.py3-none-any.whl.metadata (21 kB)\n",
            "Collecting joblib~=1.1.0 (from pandas-profiling)\n",
            "  Downloading joblib-1.1.1-py2.py3-none-any.whl.metadata (5.2 kB)\n",
            "Requirement already satisfied: scipy>=1.4.1 in /Library/Frameworks/Python.framework/Versions/3.12/lib/python3.12/site-packages (from pandas-profiling) (1.12.0)\n",
            "Requirement already satisfied: pandas!=1.0.0,!=1.0.1,!=1.0.2,!=1.1.0,>=0.25.3 in /Library/Frameworks/Python.framework/Versions/3.12/lib/python3.12/site-packages (from pandas-profiling) (2.2.1)\n",
            "Collecting matplotlib>=3.2.0 (from pandas-profiling)\n",
            "  Downloading matplotlib-3.9.1-cp312-cp312-macosx_11_0_arm64.whl.metadata (11 kB)\n",
            "Collecting pydantic>=1.8.1 (from pandas-profiling)\n",
            "  Downloading pydantic-2.8.2-py3-none-any.whl.metadata (125 kB)\n",
            "\u001b[2K     \u001b[90m━━━━━━━━━━━━━━━━━━━━━━━━━━━━━━━━━━━━━━━\u001b[0m \u001b[32m125.2/125.2 kB\u001b[0m \u001b[31m3.9 MB/s\u001b[0m eta \u001b[36m0:00:00\u001b[0m\n",
            "\u001b[?25hCollecting PyYAML>=5.0.0 (from pandas-profiling)\n",
            "  Downloading PyYAML-6.0.1-cp312-cp312-macosx_11_0_arm64.whl.metadata (2.1 kB)\n",
            "Requirement already satisfied: jinja2>=2.11.1 in /Library/Frameworks/Python.framework/Versions/3.12/lib/python3.12/site-packages (from pandas-profiling) (3.1.3)\n",
            "Requirement already satisfied: markupsafe~=2.1.1 in /Library/Frameworks/Python.framework/Versions/3.12/lib/python3.12/site-packages (from pandas-profiling) (2.1.5)\n",
            "Collecting visions==0.7.4 (from visions[type_image_path]==0.7.4->pandas-profiling)\n",
            "  Downloading visions-0.7.4-py3-none-any.whl.metadata (5.9 kB)\n",
            "Requirement already satisfied: numpy>=1.16.0 in /Library/Frameworks/Python.framework/Versions/3.12/lib/python3.12/site-packages (from pandas-profiling) (1.26.4)\n",
            "Collecting htmlmin>=0.1.12 (from pandas-profiling)\n",
            "  Downloading htmlmin-0.1.12.tar.gz (19 kB)\n",
            "  Installing build dependencies ... \u001b[?25ldone\n",
            "\u001b[?25h  Getting requirements to build wheel ... \u001b[?25ldone\n",
            "\u001b[?25h  Preparing metadata (pyproject.toml) ... \u001b[?25ldone\n",
            "\u001b[?25hCollecting missingno>=0.4.2 (from pandas-profiling)\n",
            "  Downloading missingno-0.5.2-py3-none-any.whl.metadata (639 bytes)\n",
            "Collecting phik>=0.11.1 (from pandas-profiling)\n",
            "  Downloading phik-0.12.4-cp312-cp312-macosx_11_0_arm64.whl.metadata (5.6 kB)\n",
            "Collecting tangled-up-in-unicode==0.2.0 (from pandas-profiling)\n",
            "  Downloading tangled_up_in_unicode-0.2.0-py3-none-any.whl.metadata (4.8 kB)\n",
            "Requirement already satisfied: requests>=2.24.0 in /Library/Frameworks/Python.framework/Versions/3.12/lib/python3.12/site-packages (from pandas-profiling) (2.28.1)\n",
            "Collecting tqdm>=4.48.2 (from pandas-profiling)\n",
            "  Downloading tqdm-4.66.4-py3-none-any.whl.metadata (57 kB)\n",
            "\u001b[2K     \u001b[90m━━━━━━━━━━━━━━━━━━━━━━━━━━━━━━━━━━━━━━━━\u001b[0m \u001b[32m57.6/57.6 kB\u001b[0m \u001b[31m4.3 MB/s\u001b[0m eta \u001b[36m0:00:00\u001b[0m\n",
            "\u001b[?25hCollecting seaborn>=0.10.1 (from pandas-profiling)\n",
            "  Downloading seaborn-0.13.2-py3-none-any.whl.metadata (5.4 kB)\n",
            "Collecting multimethod>=1.4 (from pandas-profiling)\n",
            "  Downloading multimethod-1.12-py3-none-any.whl.metadata (9.6 kB)\n",
            "Collecting attrs>=19.3.0 (from visions==0.7.4->visions[type_image_path]==0.7.4->pandas-profiling)\n",
            "  Downloading attrs-23.2.0-py3-none-any.whl.metadata (9.5 kB)\n",
            "Collecting networkx>=2.4 (from visions==0.7.4->visions[type_image_path]==0.7.4->pandas-profiling)\n",
            "  Downloading networkx-3.3-py3-none-any.whl.metadata (5.1 kB)\n",
            "Collecting imagehash (from visions[type_image_path]==0.7.4->pandas-profiling)\n",
            "  Downloading ImageHash-4.3.1-py2.py3-none-any.whl.metadata (8.0 kB)\n",
            "Requirement already satisfied: Pillow in /Library/Frameworks/Python.framework/Versions/3.12/lib/python3.12/site-packages (from visions[type_image_path]==0.7.4->pandas-profiling) (10.3.0)\n",
            "Collecting contourpy>=1.0.1 (from matplotlib>=3.2.0->pandas-profiling)\n",
            "  Downloading contourpy-1.2.1-cp312-cp312-macosx_11_0_arm64.whl.metadata (5.8 kB)\n",
            "Collecting cycler>=0.10 (from matplotlib>=3.2.0->pandas-profiling)\n",
            "  Downloading cycler-0.12.1-py3-none-any.whl.metadata (3.8 kB)\n",
            "Collecting fonttools>=4.22.0 (from matplotlib>=3.2.0->pandas-profiling)\n",
            "  Downloading fonttools-4.53.1-cp312-cp312-macosx_11_0_arm64.whl.metadata (162 kB)\n",
            "\u001b[2K     \u001b[90m━━━━━━━━━━━━━━━━━━━━━━━━━━━━━━━━━━━━━━━\u001b[0m \u001b[32m162.6/162.6 kB\u001b[0m \u001b[31m7.1 MB/s\u001b[0m eta \u001b[36m0:00:00\u001b[0m\n",
            "\u001b[?25hCollecting kiwisolver>=1.3.1 (from matplotlib>=3.2.0->pandas-profiling)\n",
            "  Downloading kiwisolver-1.4.5-cp312-cp312-macosx_11_0_arm64.whl.metadata (6.4 kB)\n",
            "Requirement already satisfied: packaging>=20.0 in /Library/Frameworks/Python.framework/Versions/3.12/lib/python3.12/site-packages (from matplotlib>=3.2.0->pandas-profiling) (24.0)\n",
            "Collecting pyparsing>=2.3.1 (from matplotlib>=3.2.0->pandas-profiling)\n",
            "  Downloading pyparsing-3.1.2-py3-none-any.whl.metadata (5.1 kB)\n",
            "Requirement already satisfied: python-dateutil>=2.7 in /Library/Frameworks/Python.framework/Versions/3.12/lib/python3.12/site-packages (from matplotlib>=3.2.0->pandas-profiling) (2.9.0.post0)\n",
            "Requirement already satisfied: pytz>=2020.1 in /Library/Frameworks/Python.framework/Versions/3.12/lib/python3.12/site-packages (from pandas!=1.0.0,!=1.0.1,!=1.0.2,!=1.1.0,>=0.25.3->pandas-profiling) (2024.1)\n",
            "Requirement already satisfied: tzdata>=2022.7 in /Library/Frameworks/Python.framework/Versions/3.12/lib/python3.12/site-packages (from pandas!=1.0.0,!=1.0.1,!=1.0.2,!=1.1.0,>=0.25.3->pandas-profiling) (2024.1)\n",
            "Collecting annotated-types>=0.4.0 (from pydantic>=1.8.1->pandas-profiling)\n",
            "  Downloading annotated_types-0.7.0-py3-none-any.whl.metadata (15 kB)\n",
            "Collecting pydantic-core==2.20.1 (from pydantic>=1.8.1->pandas-profiling)\n",
            "  Downloading pydantic_core-2.20.1-cp312-cp312-macosx_11_0_arm64.whl.metadata (6.6 kB)\n",
            "Collecting typing-extensions>=4.6.1 (from pydantic>=1.8.1->pandas-profiling)\n",
            "  Downloading typing_extensions-4.12.2-py3-none-any.whl.metadata (3.0 kB)\n",
            "Requirement already satisfied: charset-normalizer<3,>=2 in /Library/Frameworks/Python.framework/Versions/3.12/lib/python3.12/site-packages (from requests>=2.24.0->pandas-profiling) (2.1.1)\n",
            "Requirement already satisfied: idna<4,>=2.5 in /Library/Frameworks/Python.framework/Versions/3.12/lib/python3.12/site-packages (from requests>=2.24.0->pandas-profiling) (3.7)\n",
            "Requirement already satisfied: urllib3<1.27,>=1.21.1 in /Library/Frameworks/Python.framework/Versions/3.12/lib/python3.12/site-packages (from requests>=2.24.0->pandas-profiling) (1.26.19)\n",
            "Requirement already satisfied: certifi>=2017.4.17 in /Library/Frameworks/Python.framework/Versions/3.12/lib/python3.12/site-packages (from requests>=2.24.0->pandas-profiling) (2024.7.4)\n",
            "Requirement already satisfied: six>=1.5 in /Library/Frameworks/Python.framework/Versions/3.12/lib/python3.12/site-packages (from python-dateutil>=2.7->matplotlib>=3.2.0->pandas-profiling) (1.16.0)\n",
            "Collecting PyWavelets (from imagehash->visions[type_image_path]==0.7.4->pandas-profiling)\n",
            "  Downloading pywavelets-1.6.0-cp312-cp312-macosx_11_0_arm64.whl.metadata (9.0 kB)\n",
            "Downloading pandas_profiling-3.2.0-py2.py3-none-any.whl (262 kB)\n",
            "\u001b[2K   \u001b[90m━━━━━━━━━━━━━━━━━━━━━━━━━━━━━━━━━━━━━━━━\u001b[0m \u001b[32m262.6/262.6 kB\u001b[0m \u001b[31m5.4 MB/s\u001b[0m eta \u001b[36m0:00:00\u001b[0ma \u001b[36m0:00:01\u001b[0m\n",
            "\u001b[?25hDownloading tangled_up_in_unicode-0.2.0-py3-none-any.whl (4.7 MB)\n",
            "\u001b[2K   \u001b[90m━━━━━━━━━━━━━━━━━━━━━━━━━━━━━━━━━━━━━━━━\u001b[0m \u001b[32m4.7/4.7 MB\u001b[0m \u001b[31m7.6 MB/s\u001b[0m eta \u001b[36m0:00:00\u001b[0m00:01\u001b[0m00:01\u001b[0m\n",
            "\u001b[?25hDownloading visions-0.7.4-py3-none-any.whl (102 kB)\n",
            "\u001b[2K   \u001b[90m━━━━━━━━━━━━━━━━━━━━━━━━━━━━━━━━━━━━━━━━\u001b[0m \u001b[32m102.4/102.4 kB\u001b[0m \u001b[31m6.8 MB/s\u001b[0m eta \u001b[36m0:00:00\u001b[0m\n",
            "\u001b[?25hDownloading joblib-1.1.1-py2.py3-none-any.whl (309 kB)\n",
            "\u001b[2K   \u001b[90m━━━━━━━━━━━━━━━━━━━━━━━━━━━━━━━━━━━━━━━━\u001b[0m \u001b[32m309.8/309.8 kB\u001b[0m \u001b[31m14.9 MB/s\u001b[0m eta \u001b[36m0:00:00\u001b[0m\n",
            "\u001b[?25hDownloading matplotlib-3.9.1-cp312-cp312-macosx_11_0_arm64.whl (7.8 MB)\n",
            "\u001b[2K   \u001b[90m━━━━━━━━━━━━━━━━━━━━━━━━━━━━━━━━━━━━━━━━\u001b[0m \u001b[32m7.8/7.8 MB\u001b[0m \u001b[31m11.2 MB/s\u001b[0m eta \u001b[36m0:00:00\u001b[0m00:01\u001b[0m00:01\u001b[0m\n",
            "\u001b[?25hDownloading missingno-0.5.2-py3-none-any.whl (8.7 kB)\n",
            "Downloading multimethod-1.12-py3-none-any.whl (10 kB)\n",
            "Downloading phik-0.12.4-cp312-cp312-macosx_11_0_arm64.whl (655 kB)\n",
            "\u001b[2K   \u001b[90m━━━━━━━━━━━━━━━━━━━━━━━━━━━━━━━━━━━━━━━━\u001b[0m \u001b[32m655.7/655.7 kB\u001b[0m \u001b[31m13.9 MB/s\u001b[0m eta \u001b[36m0:00:00\u001b[0ma \u001b[36m0:00:01\u001b[0m\n",
            "\u001b[?25hDownloading pydantic-2.8.2-py3-none-any.whl (423 kB)\n",
            "\u001b[2K   \u001b[90m━━━━━━━━━━━━━━━━━━━━━━━━━━━━━━━━━━━━━━━━\u001b[0m \u001b[32m423.9/423.9 kB\u001b[0m \u001b[31m13.0 MB/s\u001b[0m eta \u001b[36m0:00:00\u001b[0m\n",
            "\u001b[?25hDownloading pydantic_core-2.20.1-cp312-cp312-macosx_11_0_arm64.whl (1.8 MB)\n",
            "\u001b[2K   \u001b[90m━━━━━━━━━━━━━━━━━━━━━━━━━━━━━━━━━━━━━━━━\u001b[0m \u001b[32m1.8/1.8 MB\u001b[0m \u001b[31m13.6 MB/s\u001b[0m eta \u001b[36m0:00:00\u001b[0ma \u001b[36m0:00:01\u001b[0m\n",
            "\u001b[?25hDownloading PyYAML-6.0.1-cp312-cp312-macosx_11_0_arm64.whl (165 kB)\n",
            "\u001b[2K   \u001b[90m━━━━━━━━━━━━━━━━━━━━━━━━━━━━━━━━━━━━━━━━\u001b[0m \u001b[32m165.6/165.6 kB\u001b[0m \u001b[31m9.8 MB/s\u001b[0m eta \u001b[36m0:00:00\u001b[0m\n",
            "\u001b[?25hDownloading seaborn-0.13.2-py3-none-any.whl (294 kB)\n",
            "\u001b[2K   \u001b[90m━━━━━━━━━━━━━━━━━━━━━━━━━━━━━━━━━━━━━━━━\u001b[0m \u001b[32m294.9/294.9 kB\u001b[0m \u001b[31m14.4 MB/s\u001b[0m eta \u001b[36m0:00:00\u001b[0m\n",
            "\u001b[?25hDownloading tqdm-4.66.4-py3-none-any.whl (78 kB)\n",
            "\u001b[2K   \u001b[90m━━━━━━━━━━━━━━━━━━━━━━━━━━━━━━━━━━━━━━━━\u001b[0m \u001b[32m78.3/78.3 kB\u001b[0m \u001b[31m7.2 MB/s\u001b[0m eta \u001b[36m0:00:00\u001b[0m\n",
            "\u001b[?25hDownloading annotated_types-0.7.0-py3-none-any.whl (13 kB)\n",
            "Downloading attrs-23.2.0-py3-none-any.whl (60 kB)\n",
            "\u001b[2K   \u001b[90m━━━━━━━━━━━━━━━━━━━━━━━━━━━━━━━━━━━━━━━━\u001b[0m \u001b[32m60.8/60.8 kB\u001b[0m \u001b[31m5.7 MB/s\u001b[0m eta \u001b[36m0:00:00\u001b[0m\n",
            "\u001b[?25hDownloading contourpy-1.2.1-cp312-cp312-macosx_11_0_arm64.whl (245 kB)\n",
            "\u001b[2K   \u001b[90m━━━━━━━━━━━━━━━━━━━━━━━━━━━━━━━━━━━━━━━━\u001b[0m \u001b[32m245.3/245.3 kB\u001b[0m \u001b[31m13.5 MB/s\u001b[0m eta \u001b[36m0:00:00\u001b[0m\n",
            "\u001b[?25hDownloading cycler-0.12.1-py3-none-any.whl (8.3 kB)\n",
            "Downloading fonttools-4.53.1-cp312-cp312-macosx_11_0_arm64.whl (2.2 MB)\n",
            "\u001b[2K   \u001b[90m━━━━━━━━━━━━━━━━━━━━━━━━━━━━━━━━━━━━━━━━\u001b[0m \u001b[32m2.2/2.2 MB\u001b[0m \u001b[31m14.2 MB/s\u001b[0m eta \u001b[36m0:00:00\u001b[0m00:01\u001b[0m00:01\u001b[0m\n",
            "\u001b[?25hDownloading kiwisolver-1.4.5-cp312-cp312-macosx_11_0_arm64.whl (64 kB)\n",
            "\u001b[2K   \u001b[90m━━━━━━━━━━━━━━━━━━━━━━━━━━━━━━━━━━━━━━━━\u001b[0m \u001b[32m65.0/65.0 kB\u001b[0m \u001b[31m6.2 MB/s\u001b[0m eta \u001b[36m0:00:00\u001b[0m\n",
            "\u001b[?25hDownloading networkx-3.3-py3-none-any.whl (1.7 MB)\n",
            "\u001b[2K   \u001b[90m━━━━━━━━━━━━━━━━━━━━━━━━━━━━━━━━━━━━━━━━\u001b[0m \u001b[32m1.7/1.7 MB\u001b[0m \u001b[31m14.5 MB/s\u001b[0m eta \u001b[36m0:00:00\u001b[0m00:01\u001b[0m00:01\u001b[0m\n",
            "\u001b[?25hDownloading pyparsing-3.1.2-py3-none-any.whl (103 kB)\n",
            "\u001b[2K   \u001b[90m━━━━━━━━━━━━━━━━━━━━━━━━━━━━━━━━━━━━━━━━\u001b[0m \u001b[32m103.2/103.2 kB\u001b[0m \u001b[31m6.9 MB/s\u001b[0m eta \u001b[36m0:00:00\u001b[0m\n",
            "\u001b[?25hDownloading typing_extensions-4.12.2-py3-none-any.whl (37 kB)\n",
            "Downloading ImageHash-4.3.1-py2.py3-none-any.whl (296 kB)\n",
            "\u001b[2K   \u001b[90m━━━━━━━━━━━━━━━━━━━━━━━━━━━━━━━━━━━━━━━━\u001b[0m \u001b[32m296.5/296.5 kB\u001b[0m \u001b[31m14.3 MB/s\u001b[0m eta \u001b[36m0:00:00\u001b[0m\n",
            "\u001b[?25hDownloading pywavelets-1.6.0-cp312-cp312-macosx_11_0_arm64.whl (4.3 MB)\n",
            "\u001b[2K   \u001b[90m━━━━━━━━━━━━━━━━━━━━━━━━━━━━━━━━━━━━━━━━\u001b[0m \u001b[32m4.3/4.3 MB\u001b[0m \u001b[31m16.4 MB/s\u001b[0m eta \u001b[36m0:00:00\u001b[0m00:01\u001b[0m00:01\u001b[0m\n",
            "\u001b[?25hBuilding wheels for collected packages: htmlmin\n",
            "  Building wheel for htmlmin (pyproject.toml) ... \u001b[?25ldone\n",
            "\u001b[?25h  Created wheel for htmlmin: filename=htmlmin-0.1.12-py3-none-any.whl size=27082 sha256=9d7abedca73e0f38199748d7f27b9ab8cebc31efc7e2e46f8377321b97272fd2\n",
            "  Stored in directory: /Users/dekshitha/Library/Caches/pip/wheels/5f/d4/d7/4189b07b5902ee9f3ce0dbb14909fbe8037c39d6c63ffd49c9\n",
            "Successfully built htmlmin\n",
            "Installing collected packages: htmlmin, typing-extensions, tqdm, tangled-up-in-unicode, PyYAML, PyWavelets, pyparsing, networkx, multimethod, kiwisolver, joblib, fonttools, cycler, contourpy, attrs, annotated-types, pydantic-core, matplotlib, imagehash, visions, seaborn, pydantic, phik, missingno, pandas-profiling\n",
            "  Attempting uninstall: joblib\n",
            "    Found existing installation: joblib 1.3.2\n",
            "    Uninstalling joblib-1.3.2:\n",
            "      Successfully uninstalled joblib-1.3.2\n",
            "\u001b[31mERROR: pip's dependency resolver does not currently take into account all the packages that are installed. This behaviour is the source of the following dependency conflicts.\n",
            "scikit-learn 1.4.1.post1 requires joblib>=1.2.0, but you have joblib 1.1.1 which is incompatible.\u001b[0m\u001b[31m\n",
            "\u001b[0mSuccessfully installed PyWavelets-1.6.0 PyYAML-6.0.1 annotated-types-0.7.0 attrs-23.2.0 contourpy-1.2.1 cycler-0.12.1 fonttools-4.53.1 htmlmin-0.1.12 imagehash-4.3.1 joblib-1.1.1 kiwisolver-1.4.5 matplotlib-3.9.1 missingno-0.5.2 multimethod-1.12 networkx-3.3 pandas-profiling-3.2.0 phik-0.12.4 pydantic-2.8.2 pydantic-core-2.20.1 pyparsing-3.1.2 seaborn-0.13.2 tangled-up-in-unicode-0.2.0 tqdm-4.66.4 typing-extensions-4.12.2 visions-0.7.4\n",
            "\n",
            "\u001b[1m[\u001b[0m\u001b[34;49mnotice\u001b[0m\u001b[1;39;49m]\u001b[0m\u001b[39;49m A new release of pip is available: \u001b[0m\u001b[31;49m24.0\u001b[0m\u001b[39;49m -> \u001b[0m\u001b[32;49m24.1.2\u001b[0m\n",
            "\u001b[1m[\u001b[0m\u001b[34;49mnotice\u001b[0m\u001b[1;39;49m]\u001b[0m\u001b[39;49m To update, run: \u001b[0m\u001b[32;49mpip3 install --upgrade pip\u001b[0m\n"
          ]
        }
      ],
      "source": [
        "!pip3 install pandas-profiling\n"
      ]
    },
    {
      "cell_type": "code",
      "execution_count": 25,
      "metadata": {
        "colab": {
          "base_uri": "https://localhost:8080/"
        },
        "id": "RC-2Ud49Uxzu",
        "outputId": "47069010-1ef1-4835-b6fd-0245f7560730"
      },
      "outputs": [
        {
          "name": "stdout",
          "output_type": "stream",
          "text": [
            "Collecting catboost\n",
            "  Downloading catboost-1.2.5-cp312-cp312-macosx_11_0_universal2.whl.metadata (1.2 kB)\n",
            "Collecting graphviz (from catboost)\n",
            "  Downloading graphviz-0.20.3-py3-none-any.whl.metadata (12 kB)\n",
            "Requirement already satisfied: matplotlib in /Library/Frameworks/Python.framework/Versions/3.12/lib/python3.12/site-packages (from catboost) (3.9.1)\n",
            "Requirement already satisfied: numpy>=1.16.0 in /Library/Frameworks/Python.framework/Versions/3.12/lib/python3.12/site-packages (from catboost) (1.26.4)\n",
            "Requirement already satisfied: pandas>=0.24 in /Library/Frameworks/Python.framework/Versions/3.12/lib/python3.12/site-packages (from catboost) (2.2.1)\n",
            "Requirement already satisfied: scipy in /Library/Frameworks/Python.framework/Versions/3.12/lib/python3.12/site-packages (from catboost) (1.12.0)\n",
            "Requirement already satisfied: plotly in /Library/Frameworks/Python.framework/Versions/3.12/lib/python3.12/site-packages (from catboost) (5.20.0)\n",
            "Requirement already satisfied: six in /Library/Frameworks/Python.framework/Versions/3.12/lib/python3.12/site-packages (from catboost) (1.16.0)\n",
            "Requirement already satisfied: python-dateutil>=2.8.2 in /Library/Frameworks/Python.framework/Versions/3.12/lib/python3.12/site-packages (from pandas>=0.24->catboost) (2.9.0.post0)\n",
            "Requirement already satisfied: pytz>=2020.1 in /Library/Frameworks/Python.framework/Versions/3.12/lib/python3.12/site-packages (from pandas>=0.24->catboost) (2024.1)\n",
            "Requirement already satisfied: tzdata>=2022.7 in /Library/Frameworks/Python.framework/Versions/3.12/lib/python3.12/site-packages (from pandas>=0.24->catboost) (2024.1)\n",
            "Requirement already satisfied: contourpy>=1.0.1 in /Library/Frameworks/Python.framework/Versions/3.12/lib/python3.12/site-packages (from matplotlib->catboost) (1.2.1)\n",
            "Requirement already satisfied: cycler>=0.10 in /Library/Frameworks/Python.framework/Versions/3.12/lib/python3.12/site-packages (from matplotlib->catboost) (0.12.1)\n",
            "Requirement already satisfied: fonttools>=4.22.0 in /Library/Frameworks/Python.framework/Versions/3.12/lib/python3.12/site-packages (from matplotlib->catboost) (4.53.1)\n",
            "Requirement already satisfied: kiwisolver>=1.3.1 in /Library/Frameworks/Python.framework/Versions/3.12/lib/python3.12/site-packages (from matplotlib->catboost) (1.4.5)\n",
            "Requirement already satisfied: packaging>=20.0 in /Library/Frameworks/Python.framework/Versions/3.12/lib/python3.12/site-packages (from matplotlib->catboost) (24.0)\n",
            "Requirement already satisfied: pillow>=8 in /Library/Frameworks/Python.framework/Versions/3.12/lib/python3.12/site-packages (from matplotlib->catboost) (10.3.0)\n",
            "Requirement already satisfied: pyparsing>=2.3.1 in /Library/Frameworks/Python.framework/Versions/3.12/lib/python3.12/site-packages (from matplotlib->catboost) (3.1.2)\n",
            "Requirement already satisfied: tenacity>=6.2.0 in /Library/Frameworks/Python.framework/Versions/3.12/lib/python3.12/site-packages (from plotly->catboost) (8.2.3)\n",
            "Downloading catboost-1.2.5-cp312-cp312-macosx_11_0_universal2.whl (26.1 MB)\n",
            "\u001b[2K   \u001b[90m━━━━━━━━━━━━━━━━━━━━━━━━━━━━━━━━━━━━━━━━\u001b[0m \u001b[32m26.1/26.1 MB\u001b[0m \u001b[31m14.7 MB/s\u001b[0m eta \u001b[36m0:00:00\u001b[0m00:01\u001b[0m00:01\u001b[0m\n",
            "\u001b[?25hDownloading graphviz-0.20.3-py3-none-any.whl (47 kB)\n",
            "\u001b[2K   \u001b[90m━━━━━━━━━━━━━━━━━━━━━━━━━━━━━━━━━━━━━━━━\u001b[0m \u001b[32m47.1/47.1 kB\u001b[0m \u001b[31m1.1 MB/s\u001b[0m eta \u001b[36m0:00:00\u001b[0m\n",
            "\u001b[?25hInstalling collected packages: graphviz, catboost\n",
            "Successfully installed catboost-1.2.5 graphviz-0.20.3\n",
            "\n",
            "\u001b[1m[\u001b[0m\u001b[34;49mnotice\u001b[0m\u001b[1;39;49m]\u001b[0m\u001b[39;49m A new release of pip is available: \u001b[0m\u001b[31;49m24.0\u001b[0m\u001b[39;49m -> \u001b[0m\u001b[32;49m24.1.2\u001b[0m\n",
            "\u001b[1m[\u001b[0m\u001b[34;49mnotice\u001b[0m\u001b[1;39;49m]\u001b[0m\u001b[39;49m To update, run: \u001b[0m\u001b[32;49mpip3 install --upgrade pip\u001b[0m\n"
          ]
        }
      ],
      "source": [
        "!pip3 install catboost\n"
      ]
    },
    {
      "cell_type": "code",
      "execution_count": 30,
      "metadata": {},
      "outputs": [
        {
          "name": "stdout",
          "output_type": "stream",
          "text": [
            "zsh:1: command not found: pip\n"
          ]
        }
      ],
      "source": [
        "!pip uninstall ydata-profiling visions -y\n"
      ]
    },
    {
      "cell_type": "code",
      "execution_count": 27,
      "metadata": {},
      "outputs": [
        {
          "name": "stdout",
          "output_type": "stream",
          "text": [
            "zsh:1: no matches found: visions[type_image_path]==0.7.5\n"
          ]
        }
      ],
      "source": [
        "!pip3 install ydata-profiling==4.8.3 visions[type_image_path]==0.7.5"
      ]
    },
    {
      "cell_type": "code",
      "execution_count": 15,
      "metadata": {},
      "outputs": [
        {
          "name": "stdout",
          "output_type": "stream",
          "text": [
            "zsh:1: command not found: pip\n"
          ]
        }
      ],
      "source": [
        "!pip3 install --upgrade numba"
      ]
    },
    {
      "cell_type": "code",
      "execution_count": 31,
      "metadata": {},
      "outputs": [
        {
          "ename": "ModuleNotFoundError",
          "evalue": "No module named 'ydata_profiling'",
          "output_type": "error",
          "traceback": [
            "\u001b[0;31m---------------------------------------------------------------------------\u001b[0m",
            "\u001b[0;31mModuleNotFoundError\u001b[0m                       Traceback (most recent call last)",
            "Cell \u001b[0;32mIn[31], line 1\u001b[0m\n\u001b[0;32m----> 1\u001b[0m \u001b[39mimport\u001b[39;00m \u001b[39mydata_profiling\u001b[39;00m \u001b[39mas\u001b[39;00m \u001b[39mpp\u001b[39;00m\n",
            "\u001b[0;31mModuleNotFoundError\u001b[0m: No module named 'ydata_profiling'"
          ]
        }
      ],
      "source": [
        "import ydata_profiling as pp"
      ]
    },
    {
      "cell_type": "code",
      "execution_count": 35,
      "metadata": {
        "id": "hlXp97pgNN1n"
      },
      "outputs": [
        {
          "ename": "ModuleNotFoundError",
          "evalue": "No module named 'distutils'",
          "output_type": "error",
          "traceback": [
            "\u001b[0;31m---------------------------------------------------------------------------\u001b[0m",
            "\u001b[0;31mModuleNotFoundError\u001b[0m                       Traceback (most recent call last)",
            "Cell \u001b[0;32mIn[35], line 11\u001b[0m\n\u001b[1;32m      8\u001b[0m \u001b[39mimport\u001b[39;00m \u001b[39mwarnings\u001b[39;00m\n\u001b[1;32m     10\u001b[0m \u001b[39m# from sklearn import preprocessing\u001b[39;00m\n\u001b[0;32m---> 11\u001b[0m \u001b[39mfrom\u001b[39;00m \u001b[39msklearn\u001b[39;00m\u001b[39m.\u001b[39;00m\u001b[39mmodel_selection\u001b[39;00m \u001b[39mimport\u001b[39;00m train_test_split, cross_val_score, learning_curve\n\u001b[1;32m     12\u001b[0m \u001b[39mfrom\u001b[39;00m \u001b[39msklearn\u001b[39;00m\u001b[39m.\u001b[39;00m\u001b[39msvm\u001b[39;00m \u001b[39mimport\u001b[39;00m SVC\n\u001b[1;32m     13\u001b[0m \u001b[39mfrom\u001b[39;00m \u001b[39msklearn\u001b[39;00m\u001b[39m.\u001b[39;00m\u001b[39mensemble\u001b[39;00m \u001b[39mimport\u001b[39;00m RandomForestClassifier, AdaBoostClassifier\n",
            "File \u001b[0;32m/Library/Frameworks/Python.framework/Versions/3.12/lib/python3.12/site-packages/sklearn/__init__.py:87\u001b[0m\n\u001b[1;32m     73\u001b[0m     \u001b[39m# We are not importing the rest of scikit-learn during the build\u001b[39;00m\n\u001b[1;32m     74\u001b[0m     \u001b[39m# process, as it may not be compiled yet\u001b[39;00m\n\u001b[1;32m     75\u001b[0m \u001b[39melse\u001b[39;00m:\n\u001b[0;32m   (...)\u001b[0m\n\u001b[1;32m     81\u001b[0m     \u001b[39m# later is linked to the OpenMP runtime to make it possible to introspect\u001b[39;00m\n\u001b[1;32m     82\u001b[0m     \u001b[39m# it and importing it first would fail if the OpenMP dll cannot be found.\u001b[39;00m\n\u001b[1;32m     83\u001b[0m     \u001b[39mfrom\u001b[39;00m \u001b[39m.\u001b[39;00m \u001b[39mimport\u001b[39;00m (\n\u001b[1;32m     84\u001b[0m         __check_build,  \u001b[39m# noqa: F401\u001b[39;00m\n\u001b[1;32m     85\u001b[0m         _distributor_init,  \u001b[39m# noqa: F401\u001b[39;00m\n\u001b[1;32m     86\u001b[0m     )\n\u001b[0;32m---> 87\u001b[0m     \u001b[39mfrom\u001b[39;00m \u001b[39m.\u001b[39;00m\u001b[39mbase\u001b[39;00m \u001b[39mimport\u001b[39;00m clone\n\u001b[1;32m     88\u001b[0m     \u001b[39mfrom\u001b[39;00m \u001b[39m.\u001b[39;00m\u001b[39mutils\u001b[39;00m\u001b[39m.\u001b[39;00m\u001b[39m_show_versions\u001b[39;00m \u001b[39mimport\u001b[39;00m show_versions\n\u001b[1;32m     90\u001b[0m     __all__ \u001b[39m=\u001b[39m [\n\u001b[1;32m     91\u001b[0m         \u001b[39m\"\u001b[39m\u001b[39mcalibration\u001b[39m\u001b[39m\"\u001b[39m,\n\u001b[1;32m     92\u001b[0m         \u001b[39m\"\u001b[39m\u001b[39mcluster\u001b[39m\u001b[39m\"\u001b[39m,\n\u001b[0;32m   (...)\u001b[0m\n\u001b[1;32m    133\u001b[0m         \u001b[39m\"\u001b[39m\u001b[39mshow_versions\u001b[39m\u001b[39m\"\u001b[39m,\n\u001b[1;32m    134\u001b[0m     ]\n",
            "File \u001b[0;32m/Library/Frameworks/Python.framework/Versions/3.12/lib/python3.12/site-packages/sklearn/base.py:19\u001b[0m\n\u001b[1;32m     17\u001b[0m \u001b[39mfrom\u001b[39;00m \u001b[39m.\u001b[39;00m\u001b[39m_config\u001b[39;00m \u001b[39mimport\u001b[39;00m config_context, get_config\n\u001b[1;32m     18\u001b[0m \u001b[39mfrom\u001b[39;00m \u001b[39m.\u001b[39;00m\u001b[39mexceptions\u001b[39;00m \u001b[39mimport\u001b[39;00m InconsistentVersionWarning\n\u001b[0;32m---> 19\u001b[0m \u001b[39mfrom\u001b[39;00m \u001b[39m.\u001b[39;00m\u001b[39mutils\u001b[39;00m \u001b[39mimport\u001b[39;00m _IS_32BIT\n\u001b[1;32m     20\u001b[0m \u001b[39mfrom\u001b[39;00m \u001b[39m.\u001b[39;00m\u001b[39mutils\u001b[39;00m\u001b[39m.\u001b[39;00m\u001b[39m_estimator_html_repr\u001b[39;00m \u001b[39mimport\u001b[39;00m _HTMLDocumentationLinkMixin, estimator_html_repr\n\u001b[1;32m     21\u001b[0m \u001b[39mfrom\u001b[39;00m \u001b[39m.\u001b[39;00m\u001b[39mutils\u001b[39;00m\u001b[39m.\u001b[39;00m\u001b[39m_metadata_requests\u001b[39;00m \u001b[39mimport\u001b[39;00m _MetadataRequester, _routing_enabled\n",
            "File \u001b[0;32m/Library/Frameworks/Python.framework/Versions/3.12/lib/python3.12/site-packages/sklearn/utils/__init__.py:20\u001b[0m\n\u001b[1;32m     18\u001b[0m \u001b[39mfrom\u001b[39;00m \u001b[39m.\u001b[39;00m\u001b[39m.\u001b[39;00m \u001b[39mimport\u001b[39;00m get_config\n\u001b[1;32m     19\u001b[0m \u001b[39mfrom\u001b[39;00m \u001b[39m.\u001b[39;00m\u001b[39m.\u001b[39;00m\u001b[39mexceptions\u001b[39;00m \u001b[39mimport\u001b[39;00m DataConversionWarning\n\u001b[0;32m---> 20\u001b[0m \u001b[39mfrom\u001b[39;00m \u001b[39m.\u001b[39;00m \u001b[39mimport\u001b[39;00m _joblib, metadata_routing\n\u001b[1;32m     21\u001b[0m \u001b[39mfrom\u001b[39;00m \u001b[39m.\u001b[39;00m\u001b[39m_bunch\u001b[39;00m \u001b[39mimport\u001b[39;00m Bunch\n\u001b[1;32m     22\u001b[0m \u001b[39mfrom\u001b[39;00m \u001b[39m.\u001b[39;00m\u001b[39m_estimator_html_repr\u001b[39;00m \u001b[39mimport\u001b[39;00m estimator_html_repr\n",
            "File \u001b[0;32m/Library/Frameworks/Python.framework/Versions/3.12/lib/python3.12/site-packages/sklearn/utils/_joblib.py:7\u001b[0m\n\u001b[1;32m      4\u001b[0m     _warnings\u001b[39m.\u001b[39msimplefilter(\u001b[39m\"\u001b[39m\u001b[39mignore\u001b[39m\u001b[39m\"\u001b[39m)\n\u001b[1;32m      5\u001b[0m     \u001b[39m# joblib imports may raise DeprecationWarning on certain Python\u001b[39;00m\n\u001b[1;32m      6\u001b[0m     \u001b[39m# versions\u001b[39;00m\n\u001b[0;32m----> 7\u001b[0m     \u001b[39mimport\u001b[39;00m \u001b[39mjoblib\u001b[39;00m\n\u001b[1;32m      8\u001b[0m     \u001b[39mfrom\u001b[39;00m \u001b[39mjoblib\u001b[39;00m \u001b[39mimport\u001b[39;00m (\n\u001b[1;32m      9\u001b[0m         Memory,\n\u001b[1;32m     10\u001b[0m         Parallel,\n\u001b[0;32m   (...)\u001b[0m\n\u001b[1;32m     20\u001b[0m         register_parallel_backend,\n\u001b[1;32m     21\u001b[0m     )\n\u001b[1;32m     24\u001b[0m __all__ \u001b[39m=\u001b[39m [\n\u001b[1;32m     25\u001b[0m     \u001b[39m\"\u001b[39m\u001b[39mparallel_backend\u001b[39m\u001b[39m\"\u001b[39m,\n\u001b[1;32m     26\u001b[0m     \u001b[39m\"\u001b[39m\u001b[39mregister_parallel_backend\u001b[39m\u001b[39m\"\u001b[39m,\n\u001b[0;32m   (...)\u001b[0m\n\u001b[1;32m     37\u001b[0m     \u001b[39m\"\u001b[39m\u001b[39m__version__\u001b[39m\u001b[39m\"\u001b[39m,\n\u001b[1;32m     38\u001b[0m ]\n",
            "File \u001b[0;32m/Library/Frameworks/Python.framework/Versions/3.12/lib/python3.12/site-packages/joblib/__init__.py:113\u001b[0m\n\u001b[1;32m    109\u001b[0m __version__ \u001b[39m=\u001b[39m \u001b[39m'\u001b[39m\u001b[39m1.1.1\u001b[39m\u001b[39m'\u001b[39m\n\u001b[1;32m    112\u001b[0m \u001b[39mimport\u001b[39;00m \u001b[39mos\u001b[39;00m\n\u001b[0;32m--> 113\u001b[0m \u001b[39mfrom\u001b[39;00m \u001b[39m.\u001b[39;00m\u001b[39mmemory\u001b[39;00m \u001b[39mimport\u001b[39;00m Memory, MemorizedResult, register_store_backend\n\u001b[1;32m    114\u001b[0m \u001b[39mfrom\u001b[39;00m \u001b[39m.\u001b[39;00m\u001b[39mlogger\u001b[39;00m \u001b[39mimport\u001b[39;00m PrintTime\n\u001b[1;32m    115\u001b[0m \u001b[39mfrom\u001b[39;00m \u001b[39m.\u001b[39;00m\u001b[39mlogger\u001b[39;00m \u001b[39mimport\u001b[39;00m Logger\n",
            "File \u001b[0;32m/Library/Frameworks/Python.framework/Versions/3.12/lib/python3.12/site-packages/joblib/memory.py:32\u001b[0m\n\u001b[1;32m     30\u001b[0m \u001b[39mfrom\u001b[39;00m \u001b[39m.\u001b[39;00m\u001b[39mfunc_inspect\u001b[39;00m \u001b[39mimport\u001b[39;00m format_signature\n\u001b[1;32m     31\u001b[0m \u001b[39mfrom\u001b[39;00m \u001b[39m.\u001b[39;00m\u001b[39mlogger\u001b[39;00m \u001b[39mimport\u001b[39;00m Logger, format_time, pformat\n\u001b[0;32m---> 32\u001b[0m \u001b[39mfrom\u001b[39;00m \u001b[39m.\u001b[39;00m\u001b[39m_store_backends\u001b[39;00m \u001b[39mimport\u001b[39;00m StoreBackendBase, FileSystemStoreBackend\n\u001b[1;32m     35\u001b[0m FIRST_LINE_TEXT \u001b[39m=\u001b[39m \u001b[39m\"\u001b[39m\u001b[39m# first line:\u001b[39m\u001b[39m\"\u001b[39m\n\u001b[1;32m     37\u001b[0m \u001b[39m# TODO: The following object should have a data store object as a sub\u001b[39;00m\n\u001b[1;32m     38\u001b[0m \u001b[39m# object, and the interface to persist and query should be separated in\u001b[39;00m\n\u001b[1;32m     39\u001b[0m \u001b[39m# the data store.\u001b[39;00m\n\u001b[0;32m   (...)\u001b[0m\n\u001b[1;32m     46\u001b[0m \u001b[39m# TODO: Same remark for the logger, and probably use the Python logging\u001b[39;00m\n\u001b[1;32m     47\u001b[0m \u001b[39m# mechanism.\u001b[39;00m\n",
            "File \u001b[0;32m/Library/Frameworks/Python.framework/Versions/3.12/lib/python3.12/site-packages/joblib/_store_backends.py:15\u001b[0m\n\u001b[1;32m     12\u001b[0m \u001b[39mimport\u001b[39;00m \u001b[39mthreading\u001b[39;00m\n\u001b[1;32m     13\u001b[0m \u001b[39mfrom\u001b[39;00m \u001b[39mabc\u001b[39;00m \u001b[39mimport\u001b[39;00m ABCMeta, abstractmethod\n\u001b[0;32m---> 15\u001b[0m \u001b[39mfrom\u001b[39;00m \u001b[39m.\u001b[39;00m\u001b[39mbackports\u001b[39;00m \u001b[39mimport\u001b[39;00m concurrency_safe_rename\n\u001b[1;32m     16\u001b[0m \u001b[39mfrom\u001b[39;00m \u001b[39m.\u001b[39;00m\u001b[39mdisk\u001b[39;00m \u001b[39mimport\u001b[39;00m mkdirp, memstr_to_bytes, rm_subdirs\n\u001b[1;32m     17\u001b[0m \u001b[39mfrom\u001b[39;00m \u001b[39m.\u001b[39;00m \u001b[39mimport\u001b[39;00m numpy_pickle\n",
            "File \u001b[0;32m/Library/Frameworks/Python.framework/Versions/3.12/lib/python3.12/site-packages/joblib/backports.py:7\u001b[0m\n\u001b[1;32m      4\u001b[0m \u001b[39mimport\u001b[39;00m \u001b[39mos\u001b[39;00m\n\u001b[1;32m      5\u001b[0m \u001b[39mimport\u001b[39;00m \u001b[39mtime\u001b[39;00m\n\u001b[0;32m----> 7\u001b[0m \u001b[39mfrom\u001b[39;00m \u001b[39mdistutils\u001b[39;00m\u001b[39m.\u001b[39;00m\u001b[39mversion\u001b[39;00m \u001b[39mimport\u001b[39;00m LooseVersion\n\u001b[1;32m      8\u001b[0m \u001b[39mfrom\u001b[39;00m \u001b[39mos\u001b[39;00m\u001b[39m.\u001b[39;00m\u001b[39mpath\u001b[39;00m \u001b[39mimport\u001b[39;00m basename\n\u001b[1;32m      9\u001b[0m \u001b[39mfrom\u001b[39;00m \u001b[39mmultiprocessing\u001b[39;00m \u001b[39mimport\u001b[39;00m util\n",
            "\u001b[0;31mModuleNotFoundError\u001b[0m: No module named 'distutils'"
          ]
        }
      ],
      "source": [
        "import pandas as pd\n",
        "import sys\n",
        "import ydata_profiling as pp\n",
        "import numpy as np\n",
        "import matplotlib.pyplot as plt\n",
        "import seaborn as sns\n",
        "import plotly.express as px\n",
        "import warnings\n",
        "\n",
        "from sklearn import preprocessing\n",
        "from sklearn.model_selection import train_test_split, cross_val_score, learning_curve\n",
        "from sklearn.svm import SVC\n",
        "from sklearn.ensemble import RandomForestClassifier, AdaBoostClassifier\n",
        "from sklearn.naive_bayes import GaussianNB, BernoulliNB\n",
        "from sklearn.neighbors import KNeighborsClassifier\n",
        "from sklearn.linear_model import LogisticRegression, SGDClassifier\n",
        "from sklearn.tree import DecisionTreeClassifier\n",
        "from xgboost import XGBClassifier\n",
        "from catboost import CatBoostClassifier\n",
        "from sklearn.metrics import confusion_matrix, classification_report, f1_score, accuracy_score, precision_score, recall_score\n",
        "from sklearn.preprocessing import StandardScaler, OneHotEncoder, LabelEncoder\n",
        "from scipy.stats import norm, skew\n",
        "from sklearn.decomposition import PCA\n",
        "from sklearn.manifold import TSNE\n",
        "from keras import models, layers\n",
        "# Tensorflow libraries\n",
        "import tensorflow as tf\n",
        "from tensorflow import keras\n",
        "from keras import Sequential\n",
        "from tensorflow.keras.optimizers import Adam\n",
        "from keras.layers import Flatten, Dense, Dropout, BatchNormalization\n",
        "from keras.layers import Conv1D, MaxPool1D\n",
        "from imblearn.over_sampling import SMOTE\n",
        "\n",
        "warnings.filterwarnings('ignore')"
      ]
    },
    {
      "cell_type": "markdown",
      "metadata": {
        "id": "kA-YBegGN0rB"
      },
      "source": [
        "Loading Dataset\n"
      ]
    },
    {
      "cell_type": "code",
      "execution_count": 36,
      "metadata": {
        "colab": {
          "base_uri": "https://localhost:8080/",
          "height": 542
        },
        "id": "f5AZej41NN_G",
        "outputId": "4c914d21-1298-4a94-9165-00b9b2dfc766"
      },
      "outputs": [
        {
          "name": "stderr",
          "output_type": "stream",
          "text": [
            "/var/folders/9c/cg5xkfcs4_vgd1x5yfd9t9mm0000gn/T/ipykernel_25348/3937079097.py:18: UserWarning: Could not infer format, so each element will be parsed individually, falling back to `dateutil`. To ensure parsing is consistent and as-expected, please specify a format.\n",
            "  data = pd.read_csv(f, parse_dates=['trans_date_trans_time'])\n"
          ]
        },
        {
          "name": "stdout",
          "output_type": "stream",
          "text": [
            "   Unnamed: 0 trans_date_trans_time        cc_num  \\\n",
            "0           1   2019-01-29 22:05:00  3.550000e+15   \n",
            "1           2   2019-06-01 15:25:00  3.520000e+15   \n",
            "2           3   2019-01-13 17:49:00  3.760000e+14   \n",
            "3           4   2019-03-04 23:48:00  5.140000e+15   \n",
            "4           5   2019-08-01 15:12:00  3.550000e+15   \n",
            "\n",
            "                                  merchant      category     amt    first  \\\n",
            "0  fraud_Parisian, Schiller and Altenwerth      misc_net  666.70     Cody   \n",
            "1          fraud_Hagenes, Kohler and Hoppe   food_dining    1.93  Micheal   \n",
            "2                        fraud_Kilback LLC   food_dining   23.03   Rachel   \n",
            "3       fraud_Streich, Dietrich and Barton  shopping_net  994.00   Dakota   \n",
            "4                          fraud_Kuhic LLC  shopping_net  194.94     Sara   \n",
            "\n",
            "      last gender                        street  ...      lat      long  \\\n",
            "0    Blake      M                300 Hodge Loaf  ...  29.7396  -95.4460   \n",
            "1  Walters      M   15315 Vaughn Park Suite 356  ...  47.8342  -90.0476   \n",
            "2     Lowe      F            372 Jeffrey Course  ...  41.1558 -101.1360   \n",
            "3   Fowler      M  16220 Joseph Point Suite 096  ...  36.4657  -81.8140   \n",
            "4   Harris      F       597 Jenny Ford Apt. 543  ...  44.2320  -74.4905   \n",
            "\n",
            "   city_pop                           job       dob  \\\n",
            "0   2906700  Community development worker  14-03-62   \n",
            "1       272             Freight forwarder  05-07-01   \n",
            "2      1789              Insurance broker  11-02-82   \n",
            "3     13021                  Tree surgeon  17-07-01   \n",
            "4      6120       Chartered loss adjuster  09-10-76   \n",
            "\n",
            "                          trans_num   unix_time  merch_lat  merch_long  \\\n",
            "0  5ea472d933561e36dcad710839b9ed6b  1327874723  29.806815  -95.377033   \n",
            "1  fb373b76f05670ce23402ace28650dfb  1325863529  46.835966  -89.251001   \n",
            "2  06f5d997085b59dda6dbf1ae2ed33b71  1326476990  41.938008 -101.775582   \n",
            "3  db194959b156dee693d5599a2ec54382  1333496912  37.324006  -80.905928   \n",
            "4  69bf1ad18f8c2b366ffe8d7d8a55cf29  1326035535  44.126948  -74.685703   \n",
            "\n",
            "   is_fraud  \n",
            "0         1  \n",
            "1         0  \n",
            "2         0  \n",
            "3         1  \n",
            "4         0  \n",
            "\n",
            "[5 rows x 23 columns]\n"
          ]
        }
      ],
      "source": [
        "import requests\n",
        "import tempfile\n",
        "\n",
        "# URL of the CSV file on GitHub\n",
        "url = 'https://raw.githubusercontent.com/BeheraSas/Project--Payment-Risk-Shield/main/Payments%20Dataset.csv'\n",
        "\n",
        "# Send a GET request to download the file\n",
        "response = requests.get(url)\n",
        "\n",
        "# Check if the request was successful\n",
        "if response.status_code == 200:\n",
        "    # Write the response content to a temporary file\n",
        "    with tempfile.TemporaryFile() as f:\n",
        "        f.write(response.content)\n",
        "        f.seek(0)  # reset the file pointer to the beginning of the file\n",
        "\n",
        "        # Read the CSV file from the temporary file\n",
        "        data = pd.read_csv(f, parse_dates=['trans_date_trans_time'])\n",
        "        print(data.head())\n",
        "else:\n",
        "    print(\"Failed to download the file\")\n"
      ]
    },
    {
      "cell_type": "markdown",
      "metadata": {
        "id": "fIU5ePwAN4pR"
      },
      "source": [
        "Data cleaning and pre-processing\n",
        "\n"
      ]
    },
    {
      "cell_type": "code",
      "execution_count": null,
      "metadata": {
        "colab": {
          "base_uri": "https://localhost:8080/"
        },
        "id": "R8EEZKu-NOBH",
        "outputId": "59e23b7a-5db7-4ad0-c4b4-bcbae9e612bd"
      },
      "outputs": [
        {
          "name": "stdout",
          "output_type": "stream",
          "text": [
            "<class 'pandas.core.frame.DataFrame'>\n",
            "RangeIndex: 36000 entries, 0 to 35999\n",
            "Data columns (total 23 columns):\n",
            " #   Column                 Non-Null Count  Dtype         \n",
            "---  ------                 --------------  -----         \n",
            " 0   Unnamed: 0             36000 non-null  int64         \n",
            " 1   trans_date_trans_time  36000 non-null  datetime64[ns]\n",
            " 2   cc_num                 36000 non-null  float64       \n",
            " 3   merchant               36000 non-null  object        \n",
            " 4   category               36000 non-null  object        \n",
            " 5   amt                    36000 non-null  float64       \n",
            " 6   first                  36000 non-null  object        \n",
            " 7   last                   36000 non-null  object        \n",
            " 8   gender                 36000 non-null  object        \n",
            " 9   street                 36000 non-null  object        \n",
            " 10  city                   36000 non-null  object        \n",
            " 11  state                  36000 non-null  object        \n",
            " 12  zip                    36000 non-null  int64         \n",
            " 13  lat                    36000 non-null  float64       \n",
            " 14  long                   36000 non-null  float64       \n",
            " 15  city_pop               36000 non-null  int64         \n",
            " 16  job                    36000 non-null  object        \n",
            " 17  dob                    36000 non-null  object        \n",
            " 18  trans_num              36000 non-null  object        \n",
            " 19  unix_time              36000 non-null  int64         \n",
            " 20  merch_lat              36000 non-null  float64       \n",
            " 21  merch_long             36000 non-null  float64       \n",
            " 22  is_fraud               36000 non-null  int64         \n",
            "dtypes: datetime64[ns](1), float64(6), int64(5), object(11)\n",
            "memory usage: 6.3+ MB\n"
          ]
        }
      ],
      "source": [
        "data.info()"
      ]
    },
    {
      "cell_type": "code",
      "execution_count": null,
      "metadata": {
        "colab": {
          "base_uri": "https://localhost:8080/"
        },
        "id": "8wMr_-6GNODv",
        "outputId": "4284347c-e62f-4150-f7a0-53c710ed13e9"
      },
      "outputs": [
        {
          "data": {
            "text/plain": [
              "Unnamed: 0               36000\n",
              "trans_date_trans_time    22739\n",
              "cc_num                     320\n",
              "merchant                   693\n",
              "category                    14\n",
              "amt                      17206\n",
              "first                      348\n",
              "last                       479\n",
              "gender                       2\n",
              "street                     965\n",
              "city                       879\n",
              "state                       51\n",
              "zip                        952\n",
              "lat                        950\n",
              "long                       951\n",
              "city_pop                   865\n",
              "job                        493\n",
              "dob                        950\n",
              "trans_num                36000\n",
              "unix_time                35650\n",
              "merch_lat                35960\n",
              "merch_long               35981\n",
              "is_fraud                     2\n",
              "dtype: int64"
            ]
          },
          "execution_count": 254,
          "metadata": {},
          "output_type": "execute_result"
        }
      ],
      "source": [
        "data.nunique()\n"
      ]
    },
    {
      "cell_type": "code",
      "execution_count": null,
      "metadata": {
        "colab": {
          "base_uri": "https://localhost:8080/"
        },
        "id": "dlJcuDfoNOGe",
        "outputId": "c58916aa-bc00-4476-f2d8-4ecb44ec3e9d"
      },
      "outputs": [
        {
          "name": "stdout",
          "output_type": "stream",
          "text": [
            "NULL values:\n",
            " Unnamed: 0               0\n",
            "trans_date_trans_time    0\n",
            "cc_num                   0\n",
            "merchant                 0\n",
            "category                 0\n",
            "amt                      0\n",
            "first                    0\n",
            "last                     0\n",
            "gender                   0\n",
            "street                   0\n",
            "city                     0\n",
            "state                    0\n",
            "zip                      0\n",
            "lat                      0\n",
            "long                     0\n",
            "city_pop                 0\n",
            "job                      0\n",
            "dob                      0\n",
            "trans_num                0\n",
            "unix_time                0\n",
            "merch_lat                0\n",
            "merch_long               0\n",
            "is_fraud                 0\n",
            "dtype: int64\n"
          ]
        }
      ],
      "source": [
        "print(\"NULL values:\\n\", data.isnull().sum())"
      ]
    },
    {
      "cell_type": "code",
      "execution_count": null,
      "metadata": {
        "colab": {
          "base_uri": "https://localhost:8080/"
        },
        "id": "oKqMqs_MOaxu",
        "outputId": "72783cf2-c355-44f8-db73-9209bf7ca362"
      },
      "outputs": [
        {
          "name": "stdout",
          "output_type": "stream",
          "text": [
            "Duplicate Rows: 0\n"
          ]
        }
      ],
      "source": [
        "print(\"Duplicate Rows:\", data.duplicated().sum())"
      ]
    },
    {
      "cell_type": "code",
      "execution_count": null,
      "metadata": {
        "id": "MJHHcqtKOa0M"
      },
      "outputs": [],
      "source": [
        "# Adding Age feature from dob and transaction date\n",
        "\n",
        "data['trans_date_trans_time'] = pd.to_datetime(data['trans_date_trans_time'])\n",
        "data['dob'] = pd.to_datetime(data['dob'])\n",
        "\n",
        "data['age'] = data.apply(lambda row: row['trans_date_trans_time'].year - row['dob'].year - ((row['trans_date_trans_time'].month, row['trans_date_trans_time'].day) < (row['dob'].month, row['dob'].day)), axis=1)\n"
      ]
    },
    {
      "cell_type": "code",
      "execution_count": null,
      "metadata": {
        "colab": {
          "base_uri": "https://localhost:8080/",
          "height": 542
        },
        "id": "wryXZXF9Oa2z",
        "outputId": "3397c1e3-07ca-4102-c9d4-3e4cfc8d4640"
      },
      "outputs": [
        {
          "data": {
            "text/html": [
              "<div>\n",
              "<style scoped>\n",
              "    .dataframe tbody tr th:only-of-type {\n",
              "        vertical-align: middle;\n",
              "    }\n",
              "\n",
              "    .dataframe tbody tr th {\n",
              "        vertical-align: top;\n",
              "    }\n",
              "\n",
              "    .dataframe thead th {\n",
              "        text-align: right;\n",
              "    }\n",
              "</style>\n",
              "<table border=\"1\" class=\"dataframe\">\n",
              "  <thead>\n",
              "    <tr style=\"text-align: right;\">\n",
              "      <th></th>\n",
              "      <th>Unnamed: 0</th>\n",
              "      <th>trans_date_trans_time</th>\n",
              "      <th>cc_num</th>\n",
              "      <th>merchant</th>\n",
              "      <th>category</th>\n",
              "      <th>amt</th>\n",
              "      <th>first</th>\n",
              "      <th>last</th>\n",
              "      <th>gender</th>\n",
              "      <th>street</th>\n",
              "      <th>...</th>\n",
              "      <th>long</th>\n",
              "      <th>city_pop</th>\n",
              "      <th>job</th>\n",
              "      <th>dob</th>\n",
              "      <th>trans_num</th>\n",
              "      <th>unix_time</th>\n",
              "      <th>merch_lat</th>\n",
              "      <th>merch_long</th>\n",
              "      <th>is_fraud</th>\n",
              "      <th>age</th>\n",
              "    </tr>\n",
              "  </thead>\n",
              "  <tbody>\n",
              "    <tr>\n",
              "      <th>0</th>\n",
              "      <td>1</td>\n",
              "      <td>2019-01-29 22:05:00</td>\n",
              "      <td>3.550000e+15</td>\n",
              "      <td>fraud_Parisian, Schiller and Altenwerth</td>\n",
              "      <td>misc_net</td>\n",
              "      <td>666.70</td>\n",
              "      <td>Cody</td>\n",
              "      <td>Blake</td>\n",
              "      <td>M</td>\n",
              "      <td>300 Hodge Loaf</td>\n",
              "      <td>...</td>\n",
              "      <td>-95.4460</td>\n",
              "      <td>2906700</td>\n",
              "      <td>Community development worker</td>\n",
              "      <td>2062-03-14</td>\n",
              "      <td>5ea472d933561e36dcad710839b9ed6b</td>\n",
              "      <td>1327874723</td>\n",
              "      <td>29.806815</td>\n",
              "      <td>-95.377033</td>\n",
              "      <td>1</td>\n",
              "      <td>-44</td>\n",
              "    </tr>\n",
              "    <tr>\n",
              "      <th>1</th>\n",
              "      <td>2</td>\n",
              "      <td>2019-06-01 15:25:00</td>\n",
              "      <td>3.520000e+15</td>\n",
              "      <td>fraud_Hagenes, Kohler and Hoppe</td>\n",
              "      <td>food_dining</td>\n",
              "      <td>1.93</td>\n",
              "      <td>Micheal</td>\n",
              "      <td>Walters</td>\n",
              "      <td>M</td>\n",
              "      <td>15315 Vaughn Park Suite 356</td>\n",
              "      <td>...</td>\n",
              "      <td>-90.0476</td>\n",
              "      <td>272</td>\n",
              "      <td>Freight forwarder</td>\n",
              "      <td>2001-05-07</td>\n",
              "      <td>fb373b76f05670ce23402ace28650dfb</td>\n",
              "      <td>1325863529</td>\n",
              "      <td>46.835966</td>\n",
              "      <td>-89.251001</td>\n",
              "      <td>0</td>\n",
              "      <td>18</td>\n",
              "    </tr>\n",
              "    <tr>\n",
              "      <th>2</th>\n",
              "      <td>3</td>\n",
              "      <td>2019-01-13 17:49:00</td>\n",
              "      <td>3.760000e+14</td>\n",
              "      <td>fraud_Kilback LLC</td>\n",
              "      <td>food_dining</td>\n",
              "      <td>23.03</td>\n",
              "      <td>Rachel</td>\n",
              "      <td>Lowe</td>\n",
              "      <td>F</td>\n",
              "      <td>372 Jeffrey Course</td>\n",
              "      <td>...</td>\n",
              "      <td>-101.1360</td>\n",
              "      <td>1789</td>\n",
              "      <td>Insurance broker</td>\n",
              "      <td>1982-11-02</td>\n",
              "      <td>06f5d997085b59dda6dbf1ae2ed33b71</td>\n",
              "      <td>1326476990</td>\n",
              "      <td>41.938008</td>\n",
              "      <td>-101.775582</td>\n",
              "      <td>0</td>\n",
              "      <td>36</td>\n",
              "    </tr>\n",
              "    <tr>\n",
              "      <th>3</th>\n",
              "      <td>4</td>\n",
              "      <td>2019-03-04 23:48:00</td>\n",
              "      <td>5.140000e+15</td>\n",
              "      <td>fraud_Streich, Dietrich and Barton</td>\n",
              "      <td>shopping_net</td>\n",
              "      <td>994.00</td>\n",
              "      <td>Dakota</td>\n",
              "      <td>Fowler</td>\n",
              "      <td>M</td>\n",
              "      <td>16220 Joseph Point Suite 096</td>\n",
              "      <td>...</td>\n",
              "      <td>-81.8140</td>\n",
              "      <td>13021</td>\n",
              "      <td>Tree surgeon</td>\n",
              "      <td>2001-07-17</td>\n",
              "      <td>db194959b156dee693d5599a2ec54382</td>\n",
              "      <td>1333496912</td>\n",
              "      <td>37.324006</td>\n",
              "      <td>-80.905928</td>\n",
              "      <td>1</td>\n",
              "      <td>17</td>\n",
              "    </tr>\n",
              "    <tr>\n",
              "      <th>4</th>\n",
              "      <td>5</td>\n",
              "      <td>2019-08-01 15:12:00</td>\n",
              "      <td>3.550000e+15</td>\n",
              "      <td>fraud_Kuhic LLC</td>\n",
              "      <td>shopping_net</td>\n",
              "      <td>194.94</td>\n",
              "      <td>Sara</td>\n",
              "      <td>Harris</td>\n",
              "      <td>F</td>\n",
              "      <td>597 Jenny Ford Apt. 543</td>\n",
              "      <td>...</td>\n",
              "      <td>-74.4905</td>\n",
              "      <td>6120</td>\n",
              "      <td>Chartered loss adjuster</td>\n",
              "      <td>1976-09-10</td>\n",
              "      <td>69bf1ad18f8c2b366ffe8d7d8a55cf29</td>\n",
              "      <td>1326035535</td>\n",
              "      <td>44.126948</td>\n",
              "      <td>-74.685703</td>\n",
              "      <td>0</td>\n",
              "      <td>42</td>\n",
              "    </tr>\n",
              "  </tbody>\n",
              "</table>\n",
              "<p>5 rows × 24 columns</p>\n",
              "</div>"
            ],
            "text/plain": [
              "   Unnamed: 0 trans_date_trans_time        cc_num  \\\n",
              "0           1   2019-01-29 22:05:00  3.550000e+15   \n",
              "1           2   2019-06-01 15:25:00  3.520000e+15   \n",
              "2           3   2019-01-13 17:49:00  3.760000e+14   \n",
              "3           4   2019-03-04 23:48:00  5.140000e+15   \n",
              "4           5   2019-08-01 15:12:00  3.550000e+15   \n",
              "\n",
              "                                  merchant      category     amt    first  \\\n",
              "0  fraud_Parisian, Schiller and Altenwerth      misc_net  666.70     Cody   \n",
              "1          fraud_Hagenes, Kohler and Hoppe   food_dining    1.93  Micheal   \n",
              "2                        fraud_Kilback LLC   food_dining   23.03   Rachel   \n",
              "3       fraud_Streich, Dietrich and Barton  shopping_net  994.00   Dakota   \n",
              "4                          fraud_Kuhic LLC  shopping_net  194.94     Sara   \n",
              "\n",
              "      last gender                        street  ...      long city_pop  \\\n",
              "0    Blake      M                300 Hodge Loaf  ...  -95.4460  2906700   \n",
              "1  Walters      M   15315 Vaughn Park Suite 356  ...  -90.0476      272   \n",
              "2     Lowe      F            372 Jeffrey Course  ... -101.1360     1789   \n",
              "3   Fowler      M  16220 Joseph Point Suite 096  ...  -81.8140    13021   \n",
              "4   Harris      F       597 Jenny Ford Apt. 543  ...  -74.4905     6120   \n",
              "\n",
              "                            job        dob                         trans_num  \\\n",
              "0  Community development worker 2062-03-14  5ea472d933561e36dcad710839b9ed6b   \n",
              "1             Freight forwarder 2001-05-07  fb373b76f05670ce23402ace28650dfb   \n",
              "2              Insurance broker 1982-11-02  06f5d997085b59dda6dbf1ae2ed33b71   \n",
              "3                  Tree surgeon 2001-07-17  db194959b156dee693d5599a2ec54382   \n",
              "4       Chartered loss adjuster 1976-09-10  69bf1ad18f8c2b366ffe8d7d8a55cf29   \n",
              "\n",
              "    unix_time  merch_lat  merch_long is_fraud  age  \n",
              "0  1327874723  29.806815  -95.377033        1  -44  \n",
              "1  1325863529  46.835966  -89.251001        0   18  \n",
              "2  1326476990  41.938008 -101.775582        0   36  \n",
              "3  1333496912  37.324006  -80.905928        1   17  \n",
              "4  1326035535  44.126948  -74.685703        0   42  \n",
              "\n",
              "[5 rows x 24 columns]"
            ]
          },
          "execution_count": 258,
          "metadata": {},
          "output_type": "execute_result"
        }
      ],
      "source": [
        "data.head()"
      ]
    },
    {
      "cell_type": "markdown",
      "metadata": {
        "id": "wZY6UiWBQJHo"
      },
      "source": [
        "Dropping unnecessary features\n"
      ]
    },
    {
      "cell_type": "code",
      "execution_count": 37,
      "metadata": {
        "colab": {
          "base_uri": "https://localhost:8080/"
        },
        "id": "W7FV3fFtOa5b",
        "outputId": "2407bc95-86de-472c-deeb-54ab2ffb87c6"
      },
      "outputs": [
        {
          "name": "stdout",
          "output_type": "stream",
          "text": [
            "<class 'pandas.core.frame.DataFrame'>\n",
            "RangeIndex: 36000 entries, 0 to 35999\n",
            "Data columns (total 23 columns):\n",
            " #   Column                 Non-Null Count  Dtype         \n",
            "---  ------                 --------------  -----         \n",
            " 0   Unnamed: 0             36000 non-null  int64         \n",
            " 1   trans_date_trans_time  36000 non-null  datetime64[ns]\n",
            " 2   cc_num                 36000 non-null  float64       \n",
            " 3   merchant               36000 non-null  object        \n",
            " 4   category               36000 non-null  object        \n",
            " 5   amt                    36000 non-null  float64       \n",
            " 6   first                  36000 non-null  object        \n",
            " 7   last                   36000 non-null  object        \n",
            " 8   gender                 36000 non-null  object        \n",
            " 9   street                 36000 non-null  object        \n",
            " 10  city                   36000 non-null  object        \n",
            " 11  state                  36000 non-null  object        \n",
            " 12  zip                    36000 non-null  int64         \n",
            " 13  lat                    36000 non-null  float64       \n",
            " 14  long                   36000 non-null  float64       \n",
            " 15  city_pop               36000 non-null  int64         \n",
            " 16  job                    36000 non-null  object        \n",
            " 17  dob                    36000 non-null  object        \n",
            " 18  trans_num              36000 non-null  object        \n",
            " 19  unix_time              36000 non-null  int64         \n",
            " 20  merch_lat              36000 non-null  float64       \n",
            " 21  merch_long             36000 non-null  float64       \n",
            " 22  is_fraud               36000 non-null  int64         \n",
            "dtypes: datetime64[ns](1), float64(6), int64(5), object(11)\n",
            "memory usage: 6.3+ MB\n"
          ]
        }
      ],
      "source": [
        "#columns_to_drop = [\"Unnamed: 0\", \"cc_num\"]\n",
        "#columns_to_drop = [\"Unnamed: 0\",\"first\",\"last\",\"trans_num\",\"cc_num\"]\n",
        "#data.drop(columns=columns_to_drop, axis=1, inplace=True)\n",
        "data.info()"
      ]
    },
    {
      "cell_type": "markdown",
      "metadata": {
        "id": "OwM1mNzJQYQW"
      },
      "source": [
        "Corrlation Matrix between all\n",
        "features\n"
      ]
    },
    {
      "cell_type": "code",
      "execution_count": null,
      "metadata": {
        "colab": {
          "base_uri": "https://localhost:8080/",
          "height": 640
        },
        "id": "ZJfhMtRlQbcK",
        "outputId": "6ffe3ce8-d63f-45b5-8a24-041dc5b11953"
      },
      "outputs": [
        {
          "data": {
            "image/png": "[encoded data removed]",
            "text/plain": [
              "<Figure size 1000x800 with 2 Axes>"
            ]
          },
          "metadata": {},
          "output_type": "display_data"
        }
      ],
      "source": [
        "\n",
        "# Select only numeric columns\n",
        "numeric_data = data.select_dtypes(include=[np.number])\n",
        "\n",
        "# Calculate the correlation matrix and round to 1 decimal place\n",
        "corr = numeric_data.corr().round(1)\n",
        "\n",
        "# Plotting the heatmap\n",
        "plt.figure(figsize=(10, 8))\n",
        "ax = sns.heatmap(corr, annot=True, cmap='Pastel2', fmt='.1f', linewidths=0.5, annot_kws={\"size\": 12})\n",
        "plt.title(\"Credit Card Fraud - Correlation Heatmap\", color=\"white\", size=20)\n",
        "plt.tight_layout()\n",
        "plt.show()"
      ]
    },
    {
      "cell_type": "code",
      "execution_count": null,
      "metadata": {
        "id": "Zsr0SWc1Oa8F"
      },
      "outputs": [],
      "source": [
        "# Lighter colors (pale yellow in the 'Pastel2' colormap) indicate weaker correlations (close to 0).\n",
        "# Darker colors (darker shades in 'Pastel2') indicate stronger correlations (close to -1 or 1).\n"
      ]
    },
    {
      "cell_type": "markdown",
      "metadata": {
        "id": "owP7BIrFOa-u"
      },
      "source": [
        "## Adding hour feature\n",
        "Here, first, we simply extract the hour. Then, we encode transactions done in normal hours 0500-2100 as normal (0) and transactions done in abnormal hours 2100-0500 as abnormal (1)"
      ]
    },
    {
      "cell_type": "code",
      "execution_count": null,
      "metadata": {},
      "outputs": [],
      "source": [
        "data['hour'] = data.trans_date_trans_time.dt.hour\n",
        "data['hourEnc'] = 0\n",
        "data.loc[data.hour < 5,'hourEnc'] = 1\n",
        "data.loc[data.hour > 21,'hourEnc'] = 1"
      ]
    },
    {
      "cell_type": "markdown",
      "metadata": {},
      "source": [
        "## Adding frequencies of transactions\n",
        "Generating frequencies of transactions done in last 1/7/30 days."
      ]
    },
    {
      "cell_type": "code",
      "execution_count": null,
      "metadata": {},
      "outputs": [],
      "source": [
        "def last1DayTransactionCount(x):\n",
        "    temp = pd.Series(x.index, index = x.trans_date_trans_time, name='count_1_day').sort_index()\n",
        "    count_1_day = temp.rolling('1d').count() - 1\n",
        "    count_1_day.index = temp.values\n",
        "    x['count_1_day'] = count_1_day.reindex(x.index)\n",
        "    return x\n",
        "def last7DaysTransactionCount(x):\n",
        "    temp = pd.Series(x.index, index = x.trans_date_trans_time, name='count_7_days').sort_index()\n",
        "    count_7_days = temp.rolling('7d').count() - 1\n",
        "    count_7_days.index = temp.values\n",
        "    x['count_7_days'] = count_7_days.reindex(x.index)\n",
        "    return x\n",
        "def last30DaysTransactionCount(x):\n",
        "    temp = pd.Series(x.index, index = x.trans_date_trans_time, name='count_30_days').sort_index()\n",
        "    count_30_days = temp.rolling('30d').count() - 1\n",
        "    count_30_days.index = temp.values\n",
        "    x['count_30_days'] = count_30_days.reindex(x.index)\n",
        "    return x"
      ]
    },
    {
      "cell_type": "code",
      "execution_count": null,
      "metadata": {},
      "outputs": [
        {
          "name": "stdout",
          "output_type": "stream",
          "text": [
            "   Unnamed: 0 trans_date_trans_time        cc_num  \\\n",
            "0           1   2019-01-29 22:05:00  3.550000e+15   \n",
            "1           2   2019-06-01 15:25:00  3.520000e+15   \n",
            "2           3   2019-01-13 17:49:00  3.760000e+14   \n",
            "3           4   2019-03-04 23:48:00  5.140000e+15   \n",
            "4           5   2019-08-01 15:12:00  3.550000e+15   \n",
            "\n",
            "                                  merchant      category     amt    first  \\\n",
            "0  fraud_Parisian, Schiller and Altenwerth      misc_net  666.70     Cody   \n",
            "1          fraud_Hagenes, Kohler and Hoppe   food_dining    1.93  Micheal   \n",
            "2                        fraud_Kilback LLC   food_dining   23.03   Rachel   \n",
            "3       fraud_Streich, Dietrich and Barton  shopping_net  994.00   Dakota   \n",
            "4                          fraud_Kuhic LLC  shopping_net  194.94     Sara   \n",
            "\n",
            "      last gender                        street  ...  \\\n",
            "0    Blake      M                300 Hodge Loaf  ...   \n",
            "1  Walters      M   15315 Vaughn Park Suite 356  ...   \n",
            "2     Lowe      F            372 Jeffrey Course  ...   \n",
            "3   Fowler      M  16220 Joseph Point Suite 096  ...   \n",
            "4   Harris      F       597 Jenny Ford Apt. 543  ...   \n",
            "\n",
            "                            job        dob                         trans_num  \\\n",
            "0  Community development worker 2062-03-14  5ea472d933561e36dcad710839b9ed6b   \n",
            "1             Freight forwarder 2001-05-07  fb373b76f05670ce23402ace28650dfb   \n",
            "2              Insurance broker 1982-11-02  06f5d997085b59dda6dbf1ae2ed33b71   \n",
            "3                  Tree surgeon 2001-07-17  db194959b156dee693d5599a2ec54382   \n",
            "4       Chartered loss adjuster 1976-09-10  69bf1ad18f8c2b366ffe8d7d8a55cf29   \n",
            "\n",
            "    unix_time  merch_lat  merch_long is_fraud age hour  hourEnc  \n",
            "0  1327874723  29.806815  -95.377033        1 -44   22        1  \n",
            "1  1325863529  46.835966  -89.251001        0  18   15        0  \n",
            "2  1326476990  41.938008 -101.775582        0  36   17        0  \n",
            "3  1333496912  37.324006  -80.905928        1  17   23        1  \n",
            "4  1326035535  44.126948  -74.685703        0  42   15        0  \n",
            "\n",
            "[5 rows x 26 columns]\n"
          ]
        }
      ],
      "source": [
        "# Display the first few rows of the DataFrame to verify the columns\n",
        "print(data.head())\n"
      ]
    },
    {
      "cell_type": "code",
      "execution_count": null,
      "metadata": {},
      "outputs": [
        {
          "name": "stdout",
          "output_type": "stream",
          "text": [
            "   Unnamed: 0 trans_date_trans_time        cc_num  \\\n",
            "0        1454   2019-09-01 20:26:00  6.041621e+10   \n",
            "1        1758   2019-11-01 22:29:00  6.041621e+10   \n",
            "2        2876   2019-02-01 13:10:00  6.041621e+10   \n",
            "3        3144   2019-01-17 19:24:00  6.041621e+10   \n",
            "4        3290   2019-02-03 23:08:00  6.041621e+10   \n",
            "\n",
            "                            merchant      category     amt first  last gender  \\\n",
            "0       fraud_Cole, Hills and Jewess          home   52.47  Mary  Diaz      F   \n",
            "1               fraud_Ruecker-Mayert     kids_pets    7.13  Mary  Diaz      F   \n",
            "2               fraud_Beier and Sons          home   27.18  Mary  Diaz      F   \n",
            "3  fraud_Nitzsche, Kessler and Wolff  shopping_pos    1.84  Mary  Diaz      F   \n",
            "4   fraud_Turner, Ziemann and Lehner   food_dining  130.08  Mary  Diaz      F   \n",
            "\n",
            "             street  ... age hour  hourEnc  count_1_day  count_30_days  \\\n",
            "0  9886 Anita Drive  ...  33   20        0          1.0            1.0   \n",
            "1  9886 Anita Drive  ...  33   22        1          0.0            0.0   \n",
            "2  9886 Anita Drive  ...  32   13        0          3.0           16.0   \n",
            "3  9886 Anita Drive  ...  32   19        0          2.0           11.0   \n",
            "4  9886 Anita Drive  ...  32   23        1          3.0           17.0   \n",
            "\n",
            "   card_frequency time_diff  distance hour_of_day  count_7_days  \n",
            "0              42       NaN  0.788478          20           1.0  \n",
            "1              42    7380.0  0.839891          22           0.0  \n",
            "2              42   52860.0  0.865386          13           3.0  \n",
            "3              42   22440.0  0.885150          19           7.0  \n",
            "4              42   13440.0  0.136082          23           7.0  \n",
            "\n",
            "[5 rows x 33 columns]\n"
          ]
        }
      ],
      "source": [
        "# Ensure 'cc_num' is a column and not part of the index\n",
        "data = data.reset_index(drop=True)\n",
        "data = data.groupby('cc_num').apply(last1DayTransactionCount)\n",
        "data = data.reset_index(drop=True)\n",
        "data = data.groupby('cc_num').apply(last7DaysTransactionCount)\n",
        "data = data.reset_index(drop=True)\n",
        "data = data.groupby('cc_num').apply(last30DaysTransactionCount)\n",
        "data = data.reset_index(drop=True)\n",
        "print(data.head())"
      ]
    },
    {
      "cell_type": "code",
      "execution_count": null,
      "metadata": {},
      "outputs": [
        {
          "name": "stdout",
          "output_type": "stream",
          "text": [
            "cc_num\n",
            "6.010000e+15    1719\n",
            "2.130000e+14    1376\n",
            "1.800000e+14    1108\n",
            "6.760000e+11     774\n",
            "3.560000e+15     741\n",
            "                ... \n",
            "5.700000e+11       8\n",
            "6.580000e+15       7\n",
            "4.410000e+15       7\n",
            "4.500000e+15       5\n",
            "5.410000e+15       3\n",
            "Name: count, Length: 320, dtype: int64\n"
          ]
        }
      ],
      "source": [
        "# Add a column to count the frequency of each card\n",
        "data['card_frequency'] = data.groupby('cc_num')['cc_num'].transform('count')\n",
        "\n",
        "# Display the frequency of each card\n",
        "print(data['cc_num'].value_counts())\n"
      ]
    },
    {
      "cell_type": "code",
      "execution_count": null,
      "metadata": {},
      "outputs": [
        {
          "name": "stdout",
          "output_type": "stream",
          "text": [
            "   Unnamed: 0 trans_date_trans_time        cc_num  \\\n",
            "0        1454   2019-09-01 20:26:00  6.041621e+10   \n",
            "1        1758   2019-11-01 22:29:00  6.041621e+10   \n",
            "2        2876   2019-02-01 13:10:00  6.041621e+10   \n",
            "3        3144   2019-01-17 19:24:00  6.041621e+10   \n",
            "4        3290   2019-02-03 23:08:00  6.041621e+10   \n",
            "\n",
            "                            merchant      category     amt first  last gender  \\\n",
            "0       fraud_Cole, Hills and Jewess          home   52.47  Mary  Diaz      F   \n",
            "1               fraud_Ruecker-Mayert     kids_pets    7.13  Mary  Diaz      F   \n",
            "2               fraud_Beier and Sons          home   27.18  Mary  Diaz      F   \n",
            "3  fraud_Nitzsche, Kessler and Wolff  shopping_pos    1.84  Mary  Diaz      F   \n",
            "4   fraud_Turner, Ziemann and Lehner   food_dining  130.08  Mary  Diaz      F   \n",
            "\n",
            "             street  ...  merch_long is_fraud  age  hour  hourEnc  \\\n",
            "0  9886 Anita Drive  ... -109.005491        0   33    20        0   \n",
            "1  9886 Anita Drive  ... -109.631996        0   33    22        1   \n",
            "2  9886 Anita Drive  ... -108.091143        0   32    13        0   \n",
            "3  9886 Anita Drive  ... -109.309681        0   32    19        0   \n",
            "4  9886 Anita Drive  ... -108.879962        1   32    23        1   \n",
            "\n",
            "   count_1_day count_30_days card_frequency time_diff  distance  \n",
            "0          1.0           1.0             42       NaN  0.788478  \n",
            "1          0.0           0.0             42    7380.0  0.839891  \n",
            "2          3.0          16.0             42   52860.0  0.865386  \n",
            "3          2.0          11.0             42   22440.0  0.885150  \n",
            "4          3.0          17.0             42   13440.0  0.136082  \n",
            "\n",
            "[5 rows x 31 columns]\n"
          ]
        }
      ],
      "source": [
        "# Define the function to add card frequency\n",
        "def add_card_frequency(df):\n",
        "    # Calculate the frequency of each card and add it as a new column 'card_frequency'\n",
        "    df['card_frequency'] = df.groupby('cc_num')['cc_num'].transform('count')\n",
        "    return df\n",
        "\n",
        "#adding card frequency to the data frame\n",
        "data = data.reset_index(drop=True)\n",
        "data = data.groupby('cc_num').apply(add_card_frequency)\n",
        "data = data.reset_index(drop=True)\n",
        "print(data.head())\n"
      ]
    },
    {
      "cell_type": "markdown",
      "metadata": {},
      "source": [
        "## Adding times since last transaction - time_diff"
      ]
    },
    {
      "cell_type": "code",
      "execution_count": null,
      "metadata": {},
      "outputs": [],
      "source": [
        "def timeDifferenceforTransactions(x):\n",
        "    x['time_diff'] = x.trans_date_trans_time - x.trans_date_trans_time.shift()\n",
        "    return x\n",
        "data = data.groupby('cc_num').apply(timeDifferenceforTransactions)\n",
        "data['time_diff'] = data['time_diff'].dt.seconds"
      ]
    },
    {
      "cell_type": "markdown",
      "metadata": {
        "id": "61n315MjSr3W"
      },
      "source": [
        "Scaling data\n"
      ]
    },
    {
      "cell_type": "code",
      "execution_count": null,
      "metadata": {},
      "outputs": [
        {
          "data": {
            "text/plain": [
              "<Figure size 1000x600 with 0 Axes>"
            ]
          },
          "metadata": {},
          "output_type": "display_data"
        },
        {
          "data": {
            "image/png": "[encoded data removed]",
            "text/plain": [
              "<Figure size 1000x600 with 1 Axes>"
            ]
          },
          "metadata": {},
          "output_type": "display_data"
        }
      ],
      "source": [
        "import matplotlib.pyplot as plt\n",
        "\n",
        "# Extracting hour of the day from the trans_date_trans_time column\n",
        "df1['hour_of_day'] = df1['trans_date_trans_time'].dt.hour\n",
        "\n",
        "# Grouping by hour of day and count the number of transactions\n",
        "hourly_transactions = df1.groupby('hour_of_day')['cc_num'].count()\n",
        "\n",
        "# Plotting the frequency of transactions during a time of day\n",
        "plt.figure(figsize=(10, 6))\n",
        "plt.figure(figsize=(10, 6), facecolor='lightgray')\n",
        "plt.plot(hourly_transactions.index, hourly_transactions.values, color='orange')\n",
        "plt.xlabel('Hour of Day')\n",
        "plt.ylabel('Number of Transactions')\n",
        "plt.title('Frequency of Transactions by Hour of Day')\n",
        "plt.grid(True)\n",
        "\n",
        "# Changing the background color of the graph using axis function\n",
        "ax = plt.gca()\n",
        "ax.patch.set_facecolor('lightblue')\n",
        "\n",
        "plt.show()"
      ]
    },
    {
      "cell_type": "markdown",
      "metadata": {},
      "source": [
        "# Adding hour_of_day column to the data frame"
      ]
    },
    {
      "cell_type": "code",
      "execution_count": null,
      "metadata": {},
      "outputs": [
        {
          "name": "stdout",
          "output_type": "stream",
          "text": [
            "                Unnamed: 0 trans_date_trans_time        cc_num  \\\n",
            "cc_num                                                           \n",
            "6.041621e+10 0        1454   2019-09-01 20:26:00  6.041621e+10   \n",
            "             1        1758   2019-11-01 22:29:00  6.041621e+10   \n",
            "             2        2876   2019-02-01 13:10:00  6.041621e+10   \n",
            "             3        3144   2019-01-17 19:24:00  6.041621e+10   \n",
            "             4        3290   2019-02-03 23:08:00  6.041621e+10   \n",
            "\n",
            "                                         merchant      category     amt first  \\\n",
            "cc_num                                                                          \n",
            "6.041621e+10 0       fraud_Cole, Hills and Jewess          home   52.47  Mary   \n",
            "             1               fraud_Ruecker-Mayert     kids_pets    7.13  Mary   \n",
            "             2               fraud_Beier and Sons          home   27.18  Mary   \n",
            "             3  fraud_Nitzsche, Kessler and Wolff  shopping_pos    1.84  Mary   \n",
            "             4   fraud_Turner, Ziemann and Lehner   food_dining  130.08  Mary   \n",
            "\n",
            "                last gender            street  ... is_fraud age  hour  \\\n",
            "cc_num                                         ...                      \n",
            "6.041621e+10 0  Diaz      F  9886 Anita Drive  ...        0  33    20   \n",
            "             1  Diaz      F  9886 Anita Drive  ...        0  33    22   \n",
            "             2  Diaz      F  9886 Anita Drive  ...        0  32    13   \n",
            "             3  Diaz      F  9886 Anita Drive  ...        0  32    19   \n",
            "             4  Diaz      F  9886 Anita Drive  ...        1  32    23   \n",
            "\n",
            "                hourEnc  count_1_day  count_30_days card_frequency time_diff  \\\n",
            "cc_num                                                                         \n",
            "6.041621e+10 0        0          1.0            1.0             42       NaN   \n",
            "             1        1          0.0            0.0             42    7380.0   \n",
            "             2        0          3.0           16.0             42   52860.0   \n",
            "             3        0          2.0           11.0             42   22440.0   \n",
            "             4        1          3.0           17.0             42   13440.0   \n",
            "\n",
            "                distance  hour_of_day  \n",
            "cc_num                                 \n",
            "6.041621e+10 0  0.788478           20  \n",
            "             1  0.839891           22  \n",
            "             2  0.865386           13  \n",
            "             3  0.885150           19  \n",
            "             4  0.136082           23  \n",
            "\n",
            "[5 rows x 32 columns]\n"
          ]
        }
      ],
      "source": [
        "def add_hour_of_day(df):\n",
        "    # Extract the hour of the day from the 'trans_date_trans_time' column and add it as a new column 'hour_of_day'\n",
        "    df['hour_of_day'] = df['trans_date_trans_time'].dt.hour\n",
        "    return df\n",
        "data = add_hour_of_day(data)\n",
        "print(data.head())"
      ]
    },
    {
      "cell_type": "code",
      "execution_count": null,
      "metadata": {},
      "outputs": [
        {
          "name": "stdout",
          "output_type": "stream",
          "text": [
            "                hour_of_day\n",
            "cc_num                     \n",
            "6.041621e+10 0           20\n",
            "             1           22\n",
            "             2           13\n",
            "             3           19\n",
            "             4           23\n"
          ]
        }
      ],
      "source": [
        "print(data[['hour_of_day']].head())"
      ]
    },
    {
      "cell_type": "code",
      "execution_count": null,
      "metadata": {
        "colab": {
          "base_uri": "https://localhost:8080/",
          "height": 315
        },
        "id": "nQ0nLzH2ObBW",
        "outputId": "57a3d9ae-7bec-4e72-c508-b470b0fd776b"
      },
      "outputs": [
        {
          "data": {
            "image/png": "[encoded data removed]",
            "text/plain": [
              "<Figure size 1400x600 with 2 Axes>"
            ]
          },
          "metadata": {},
          "output_type": "display_data"
        }
      ],
      "source": [
        "# Number of Fraud and Not-Fraud Cases\n",
        "# Count the number of fraud cases\n",
        "fraud_counts = data[\"is_fraud\"].value_counts()\n",
        "fraud_labels = fraud_counts.index.tolist()\n",
        "fraud_values = fraud_counts.tolist()\n",
        "\n",
        "# Create a figure with one row and two columns for side-by-side plots\n",
        "fig, axes = plt.subplots(1, 2, figsize=(14, 6))\n",
        "\n",
        "# Plot the bar chart on the first subplot (axes[0])\n",
        "axes[0].bar(['Not Fraud', 'Fraud'], fraud_values, color=['lightgreen', 'lightcoral'])\n",
        "for i, v in enumerate(fraud_values):\n",
        "    axes[0].text(i, v, str(v), ha='center', va='bottom', fontweight='bold', fontsize=12)\n",
        "\n",
        "axes[0].set_title('Number of Fraud and Non-Fraud Cases')\n",
        "axes[0].set_xlabel('Fraud Status')\n",
        "axes[0].set_ylabel('Count')\n",
        "\n",
        "# Create a pie chart on the second subplot (axes[1])\n",
        "axes[1].pie(fraud_values, labels=['Not Fraud', 'Fraud'], autopct='%1.1f%%', startangle=90,explode = (0.1,0), colors=['lightblue', 'lightpink'],\n",
        "            wedgeprops={'edgecolor': 'black', 'linewidth': 1, 'antialiased': True})\n",
        "axes[1].set_title('Fraud Cases')\n",
        "axes[1].axis('equal')  # Equal aspect ratio ensures that pie is drawn as a circle.\n",
        "\n",
        "# Adjust the layout and display the plots\n",
        "plt.tight_layout()\n",
        "plt.show()"
      ]
    },
    {
      "cell_type": "code",
      "execution_count": null,
      "metadata": {
        "id": "qCZtgd5AObED"
      },
      "outputs": [
        {
          "data": {
            "image/png": "[encoded data removed]",
            "text/plain": [
              "<Figure size 1000x400 with 2 Axes>"
            ]
          },
          "metadata": {},
          "output_type": "display_data"
        }
      ],
      "source": [
        "# Calculating the distance between the customer's location and the merchant's location\n",
        "data['distance'] = ((data['lat'] - data['merch_lat']) ** 2 + (data['long'] - data['merch_long']) ** 2) ** 0.5\n",
        "\n",
        "# Filtering fraudulent transactions\n",
        "fraud_data = data[data['is_fraud'] == 1]\n",
        "non_fraud_data = data[data['is_fraud'] == 0]\n",
        "\n",
        "# Creating figure with two subplots\n",
        "fig, axs = plt.subplots(1, 2, figsize=(10, 4))\n",
        "\n",
        "# Plotting histogram of distances for fraudulent transactions on the first subplot\n",
        "# calculating the Euclidean distance between the two points in latitude-longitude space\n",
        "axs[0].hist(fraud_data['distance'], bins=50, alpha=0.5, label='Fraudulent Transactions')\n",
        "axs[0].set_xlabel('Distance')\n",
        "axs[0].set_ylabel('Frequency')\n",
        "axs[0].set_title('Distance Distribution for Fraudulent Transactions')\n",
        "\n",
        "# Plotting scatter plot of distances vs. transaction amounts for fraudulent and non-fraudulent transactions on the second subplot\n",
        "axs[1].scatter(non_fraud_data['distance'] * 111, non_fraud_data['amt'], label='Non-Fraudulent', color='blue', alpha=0.5)\n",
        "axs[1].scatter(fraud_data['distance'] * 111, fraud_data['amt'], label='Fraudulent', color='coral', alpha=0.5)\n",
        "axs[1].set_xlabel('Distance (km)')\n",
        "axs[1].set_ylabel('Transaction Amount')\n",
        "axs[1].set_title('Distance vs. Transaction Amount')\n",
        "axs[1].legend()\n",
        "\n",
        "# Layout and show the plot\n",
        "plt.tight_layout()\n",
        "plt.show()"
      ]
    },
    {
      "cell_type": "code",
      "execution_count": null,
      "metadata": {},
      "outputs": [
        {
          "name": "stdout",
          "output_type": "stream",
          "text": [
            "                Unnamed: 0 trans_date_trans_time        cc_num  \\\n",
            "cc_num                                                           \n",
            "6.041621e+10 0        1454   2019-09-01 20:26:00  6.041621e+10   \n",
            "             1        1758   2019-11-01 22:29:00  6.041621e+10   \n",
            "             2        2876   2019-02-01 13:10:00  6.041621e+10   \n",
            "             3        3144   2019-01-17 19:24:00  6.041621e+10   \n",
            "             4        3290   2019-02-03 23:08:00  6.041621e+10   \n",
            "\n",
            "                                         merchant      category     amt first  \\\n",
            "cc_num                                                                          \n",
            "6.041621e+10 0       fraud_Cole, Hills and Jewess          home   52.47  Mary   \n",
            "             1               fraud_Ruecker-Mayert     kids_pets    7.13  Mary   \n",
            "             2               fraud_Beier and Sons          home   27.18  Mary   \n",
            "             3  fraud_Nitzsche, Kessler and Wolff  shopping_pos    1.84  Mary   \n",
            "             4   fraud_Turner, Ziemann and Lehner   food_dining  130.08  Mary   \n",
            "\n",
            "                last gender            street  ...  merch_long is_fraud  age  \\\n",
            "cc_num                                         ...                             \n",
            "6.041621e+10 0  Diaz      F  9886 Anita Drive  ... -109.005491        0   33   \n",
            "             1  Diaz      F  9886 Anita Drive  ... -109.631996        0   33   \n",
            "             2  Diaz      F  9886 Anita Drive  ... -108.091143        0   32   \n",
            "             3  Diaz      F  9886 Anita Drive  ... -109.309681        0   32   \n",
            "             4  Diaz      F  9886 Anita Drive  ... -108.879962        1   32   \n",
            "\n",
            "                hour  hourEnc  count_1_day count_30_days card_frequency  \\\n",
            "cc_num                                                                    \n",
            "6.041621e+10 0    20        0          1.0           1.0             42   \n",
            "             1    22        1          0.0           0.0             42   \n",
            "             2    13        0          3.0          16.0             42   \n",
            "             3    19        0          2.0          11.0             42   \n",
            "             4    23        1          3.0          17.0             42   \n",
            "\n",
            "               time_diff  distance  \n",
            "cc_num                              \n",
            "6.041621e+10 0       NaN  0.788478  \n",
            "             1    7380.0  0.839891  \n",
            "             2   52860.0  0.865386  \n",
            "             3   22440.0  0.885150  \n",
            "             4   13440.0  0.136082  \n",
            "\n",
            "[5 rows x 31 columns]\n"
          ]
        }
      ],
      "source": [
        "print(data.head())"
      ]
    },
    {
      "cell_type": "code",
      "execution_count": null,
      "metadata": {},
      "outputs": [
        {
          "name": "stdout",
          "output_type": "stream",
          "text": [
            "   count_1_day  count_7_days  count_30_days  card_frequency  hour_of_day  \\\n",
            "0          1.0           1.0            1.0              42           20   \n",
            "1          0.0           0.0            0.0              42           22   \n",
            "2          3.0           3.0           16.0              42           13   \n",
            "3          2.0           7.0           11.0              42           19   \n",
            "4          3.0           7.0           17.0              42           23   \n",
            "\n",
            "   distance  \n",
            "0  0.788478  \n",
            "1  0.839891  \n",
            "2  0.865386  \n",
            "3  0.885150  \n",
            "4  0.136082  \n"
          ]
        }
      ],
      "source": [
        "# Verifing the added columns\n",
        "print(data[['count_1_day', 'count_7_days', 'count_30_days', 'card_frequency', 'hour_of_day', 'distance']].head())"
      ]
    },
    {
      "cell_type": "code",
      "execution_count": null,
      "metadata": {
        "id": "8vp970wSObG5"
      },
      "outputs": [
        {
          "name": "stdout",
          "output_type": "stream",
          "text": [
            "Confusion Matrix:\n",
            "[[5818  199]\n",
            " [ 402  781]]\n",
            "\n",
            "Classification Report:\n",
            "              precision    recall  f1-score   support\n",
            "\n",
            "           0       0.94      0.97      0.95      6017\n",
            "           1       0.80      0.66      0.72      1183\n",
            "\n",
            "    accuracy                           0.92      7200\n",
            "   macro avg       0.87      0.81      0.84      7200\n",
            "weighted avg       0.91      0.92      0.91      7200\n",
            "\n",
            "\n",
            "Accuracy Score: 0.9165277777777778\n"
          ]
        }
      ],
      "source": [
        "# Define features (X) and target variable (y)\n",
        "features = ['count_1_day', 'count_7_days', 'count_30_days', 'card_frequency', 'hour_of_day', 'distance']\n",
        "X = data[features]\n",
        "y = data['is_fraud']\n",
        "\n",
        "# Train-test split\n",
        "X_train, X_test, y_train, y_test = train_test_split(X, y, test_size=0.2, random_state=42)\n",
        "\n",
        "# Initialize Random Forest classifier\n",
        "rf_classifier = RandomForestClassifier(n_estimators=100, random_state=42)\n",
        "\n",
        "# Train the model\n",
        "rf_classifier.fit(X_train, y_train)\n",
        "\n",
        "# Predictions on the test set\n",
        "y_pred = rf_classifier.predict(X_test)\n",
        "\n",
        "# Model evaluation\n",
        "print(\"Confusion Matrix:\")\n",
        "print(confusion_matrix(y_test, y_pred))\n",
        "print(\"\\nClassification Report:\")\n",
        "print(classification_report(y_test, y_pred))\n",
        "print(\"\\nAccuracy Score:\", accuracy_score(y_test, y_pred))"
      ]
    },
    {
      "cell_type": "code",
      "execution_count": null,
      "metadata": {},
      "outputs": [
        {
          "name": "stdout",
          "output_type": "stream",
          "text": [
            "Accuracy: 0.9165277777777778\n",
            "Classification Report:\n",
            "              precision    recall  f1-score   support\n",
            "\n",
            "           0       0.94      0.97      0.95      6017\n",
            "           1       0.80      0.66      0.72      1183\n",
            "\n",
            "    accuracy                           0.92      7200\n",
            "   macro avg       0.87      0.81      0.84      7200\n",
            "weighted avg       0.91      0.92      0.91      7200\n",
            "\n",
            "Confusion Matrix:\n",
            "[[5818  199]\n",
            " [ 402  781]]\n"
          ]
        }
      ],
      "source": [
        "from sklearn.ensemble import RandomForestClassifier\n",
        "from sklearn.model_selection import train_test_split\n",
        "from sklearn.metrics import accuracy_score, classification_report, confusion_matrix\n",
        "\n",
        "# Assume 'target' is the column with the target variable\n",
        "X = data[['count_1_day', 'count_7_days', 'count_30_days', 'card_frequency', 'hour_of_day', 'distance']]\n",
        "y = data['is_fraud']\n",
        "\n",
        "# Split the data into training and testing sets\n",
        "X_train, X_test, y_train, y_test = train_test_split(X, y, test_size=0.2, random_state=42)\n",
        "\n",
        "# Create a Random Forest model\n",
        "rf_model = RandomForestClassifier(n_estimators=100, random_state=42)\n",
        "\n",
        "# Train the model\n",
        "rf_model.fit(X_train, y_train)\n",
        "\n",
        "# Make predictions on the testing set\n",
        "y_pred = rf_model.predict(X_test)\n",
        "\n",
        "# Evaluate the model\n",
        "accuracy = accuracy_score(y_test, y_pred)\n",
        "print(\"Accuracy:\", accuracy)\n",
        "print(\"Classification Report:\")\n",
        "print(classification_report(y_test, y_pred))\n",
        "print(\"Confusion Matrix:\")\n",
        "print(confusion_matrix(y_test, y_pred))"
      ]
    },
    {
      "cell_type": "code",
      "execution_count": null,
      "metadata": {},
      "outputs": [
        {
          "name": "stdout",
          "output_type": "stream",
          "text": [
            "Accuracy: 0.9831944444444445\n",
            "Classification Report:\n",
            "              precision    recall  f1-score   support\n",
            "\n",
            "           0       0.99      0.99      0.99      6017\n",
            "           1       0.96      0.93      0.95      1183\n",
            "\n",
            "    accuracy                           0.98      7200\n",
            "   macro avg       0.98      0.96      0.97      7200\n",
            "weighted avg       0.98      0.98      0.98      7200\n",
            "\n",
            "Confusion Matrix:\n",
            "[[5977   40]\n",
            " [  81 1102]]\n"
          ]
        }
      ],
      "source": [
        "import xgboost as xgb\n",
        "from sklearn.model_selection import train_test_split\n",
        "from sklearn.metrics import accuracy_score, classification_report, confusion_matrix\n",
        "\n",
        "# Defining features and target variable\n",
        "features = ['count_1_day', 'count_7_days', 'count_30_days', 'card_frequency', \n",
        "            'hour_of_day', 'distance', 'amt', 'lat', 'long', 'merch_lat', 'merch_long',\n",
        "            'time_diff', 'age']\n",
        "\n",
        "# Select categorical columns for encoding\n",
        "categorical_cols = ['category', 'gender']\n",
        "\n",
        "# One-hot encoding for categorical variables\n",
        "X = pd.get_dummies(data[features + categorical_cols], columns=categorical_cols, drop_first=True)\n",
        "y = data['is_fraud']\n",
        "\n",
        "# Split the data into training and testing sets\n",
        "X_train, X_test, y_train, y_test = train_test_split(X, y, test_size=0.2, random_state=42)\n",
        "\n",
        "# Convert the data to DMatrix format required by XGBoost\n",
        "dtrain = xgb.DMatrix(X_train, label=y_train)\n",
        "dtest = xgb.DMatrix(X_test, label=y_test)\n",
        "\n",
        "# Create an XGBoost model\n",
        "params = {\n",
        "    'objective': 'multi:softmax',  # Use 'binary:logistic' for binary classification\n",
        "    'num_class': 2,\n",
        "    'max_depth': 6,\n",
        "    'eta': 0.1,\n",
        "    'alpha': 10,\n",
        "    'subsample': 0.8,\n",
        "    'colsample_bytree': 0.8,\n",
        "    'random_state': 42,\n",
        "    'scale_pos_weight': 3.5\n",
        "}\n",
        "xgb_model = xgb.train(params, dtrain, num_boost_round=100)\n",
        "\n",
        "# Make predictions on the testing set\n",
        "y_pred = xgb_model.predict(dtest)\n",
        "\n",
        "# Evaluate the model\n",
        "accuracy = accuracy_score(y_test, y_pred)\n",
        "print(\"Accuracy:\", accuracy)\n",
        "print(\"Classification Report:\")\n",
        "print(classification_report(y_test, y_pred))\n",
        "print(\"Confusion Matrix:\")\n",
        "print(confusion_matrix(y_test, y_pred))\n"
      ]
    },
    {
      "cell_type": "markdown",
      "metadata": {},
      "source": []
    },
    {
      "cell_type": "markdown",
      "metadata": {},
      "source": [
        "Decision Tree"
      ]
    },
    {
      "cell_type": "code",
      "execution_count": 38,
      "metadata": {},
      "outputs": [
        {
          "ename": "NameError",
          "evalue": "name 'LabelEncoder' is not defined",
          "output_type": "error",
          "traceback": [
            "\u001b[0;31m---------------------------------------------------------------------------\u001b[0m",
            "\u001b[0;31mNameError\u001b[0m                                 Traceback (most recent call last)",
            "Cell \u001b[0;32mIn[38], line 3\u001b[0m\n\u001b[1;32m      1\u001b[0m X\u001b[39m=\u001b[39mdata\u001b[39m.\u001b[39mdrop(\u001b[39m'\u001b[39m\u001b[39mis_fraud\u001b[39m\u001b[39m'\u001b[39m, axis\u001b[39m=\u001b[39m\u001b[39m1\u001b[39m)\n\u001b[1;32m      2\u001b[0m y\u001b[39m=\u001b[39mdata[\u001b[39m'\u001b[39m\u001b[39mis_fraud\u001b[39m\u001b[39m'\u001b[39m]\n\u001b[0;32m----> 3\u001b[0m label_encoder \u001b[39m=\u001b[39m LabelEncoder()\n\u001b[1;32m      4\u001b[0m \u001b[39mfor\u001b[39;00m column \u001b[39min\u001b[39;00m X\u001b[39m.\u001b[39mcolumns:\n\u001b[1;32m      5\u001b[0m     \u001b[39mif\u001b[39;00m X[column]\u001b[39m.\u001b[39mdtype \u001b[39m==\u001b[39m \u001b[39m'\u001b[39m\u001b[39mobject\u001b[39m\u001b[39m'\u001b[39m:  \u001b[39m# Encode only object (categorical) columns\u001b[39;00m\n",
            "\u001b[0;31mNameError\u001b[0m: name 'LabelEncoder' is not defined"
          ]
        }
      ],
      "source": [
        "\n",
        "X=data.drop('is_fraud', axis=1)\n",
        "y=data['is_fraud']\n",
        "label_encoder = LabelEncoder()\n",
        "for column in X.columns:\n",
        "    if X[column].dtype == 'object':  # Encode only object (categorical) columns\n",
        "        X[column + '_encoded'] = label_encoder.fit_transform(X[column])\n",
        "        X.drop(column, axis=1, inplace=True)\n",
        "\n",
        "X\n",
        "\n",
        "# Get the names of categorical features\n",
        "categorical_features = data.select_dtypes(include='object').columns.tolist()\n",
        "\n",
        "# Get the names of numerical features\n",
        "numerical_features = data.select_dtypes(include=['int64', 'float64']).columns.tolist()\n",
        "\n",
        "print(\"Categorical Features:\", categorical_features)\n",
        "print(\"Numerical Features:\", numerical_features)\n",
        "\n",
        "\n",
        "# Step 1: Identify and separate datetime columns\n",
        "datetime_cols = X.select_dtypes(include=[np.datetime64]).columns\n",
        "numeric_cols = X.select_dtypes(include=[np.number]).columns\n",
        "\n",
        "# Step 2: Convert datetime columns to numeric (e.g., timestamp)\n",
        "X_datetime_numeric = X[datetime_cols].apply(lambda col: col.astype(np.int64) // 10**9)\n",
        "\n",
        "# Combine numeric columns with converted datetime columns\n",
        "X_numeric = pd.concat([X[numeric_cols], X_datetime_numeric], axis=1)\n",
        "\n",
        "# Step 3: Apply SMOTE\n",
        "smote = SMOTE(random_state=42)\n",
        "X_resampled, y_resampled = smote.fit_resample(X_numeric, y)\n",
        "\n",
        "X_resampled\n",
        "X_resampled.info()\n",
        "\n",
        "# Select the numerical columns\n",
        "numerical_columns = X_resampled.select_dtypes(include=[float, int]).columns\n",
        "\n",
        "# Create a scaler object\n",
        "scaler = StandardScaler()\n",
        "\n",
        "# Scale numerical columns\n",
        "X_resampled[numerical_columns] = scaler.fit_transform(X_resampled[numerical_columns])\n",
        "X_resampled\n",
        "\n",
        "x_train, x_test, y_train, y_test = train_test_split(X_resampled, y_resampled, test_size=0.2, random_state=42)\n",
        "from sklearn.tree import DecisionTreeClassifier\n",
        "dt_classifier = DecisionTreeClassifier(max_depth=None, random_state=42)\n",
        "dt_classifier.fit(x_train, y_train)\n",
        "y_pred = dt_classifier.predict(x_test)\n",
        "from sklearn.metrics import accuracy_score, classification_report, confusion_matrix\n",
        "\n",
        "# Accuracy score\n",
        "accuracy = accuracy_score(y_test, y_pred)\n",
        "print(f'Accuracy: {accuracy:.2f}')\n",
        "\n",
        "# Classification report\n",
        "print(classification_report(y_test, y_pred))\n",
        "\n",
        "# Confusion matrix\n",
        "print('Confusion Matrix:')\n",
        "print(confusion_matrix(y_test, y_pred))\n"
      ]
    },
    {
      "cell_type": "code",
      "execution_count": null,
      "metadata": {},
      "outputs": [],
      "source": []
    },
    {
      "cell_type": "code",
      "execution_count": null,
      "metadata": {},
      "outputs": [],
      "source": [
        "# Count the number of fraud cases\n",
        "fraud_counts = y_resampled.value_counts()\n",
        "fraud_labels = fraud_counts.index.tolist()\n",
        "fraud_values = fraud_counts.tolist()\n",
        "\n",
        "# Create a figure with one row and two columns for side-by-side plots\n",
        "fig, axes = plt.subplots(1, 2, figsize=(14, 6))\n",
        "\n",
        "# Plot the bar chart on the first subplot (axes[0])\n",
        "axes[0].bar(['Not Fraud', 'Fraud'], fraud_values, color=['lightblue', 'lightcoral'])\n",
        "for i, v in enumerate(fraud_values):\n",
        "    axes[0].text(i, v, str(v), ha='center', va='bottom', fontweight='bold', fontsize=12)\n",
        "\n",
        "axes[0].set_title('Number of Fraud and Non-Fraud Cases')\n",
        "axes[0].set_xlabel('Fraud Status')\n",
        "axes[0].set_ylabel('Count')\n",
        "\n",
        "# Create a pie chart on the second subplot (axes[1])\n",
        "axes[1].pie(fraud_values, labels=['Not Fraud', 'Fraud'], autopct='%1.1f%%', startangle=90,explode = (0.1,0), colors=['lightblue', 'lightcoral'],\n",
        "            wedgeprops={'edgecolor': 'black', 'linewidth': 1, 'antialiased': True})\n",
        "axes[1].set_title('Fraud Cases')\n",
        "axes[1].axis('equal')  # Equal aspect ratio ensures that pie is drawn as a circle.\n",
        "\n",
        "# Adjust the layout and display the plots\n",
        "plt.tight_layout()\n",
        "plt.show()"
      ]
    },
    {
      "cell_type": "code",
      "execution_count": null,
      "metadata": {},
      "outputs": [],
      "source": []
    }
  ],
  "metadata": {
    "colab": {
      "provenance": []
    },
    "kernelspec": {
      "display_name": "Python 3 (ipykernel)",
      "language": "python",
      "name": "python3"
    },
    "language_info": {
      "codemirror_mode": {
        "name": "ipython",
        "version": 3
      },
      "file_extension": ".py",
      "mimetype": "text/x-python",
      "name": "python",
      "nbconvert_exporter": "python",
      "pygments_lexer": "ipython3",
      "version": "3.12.2"
    }
  },
  "nbformat": 4,
  "nbformat_minor": 0
}

{
  "cells": [
    {
      "cell_type": "code",
      "execution_count": 31,
      "metadata": {},
      "outputs": [
        {
          "name": "stdout",
          "output_type": "stream",
          "text": [
            "Found existing installation: pandas-profiling 3.2.0\n",
            "Uninstalling pandas-profiling-3.2.0:\n",
            "  Successfully uninstalled pandas-profiling-3.2.0\n"
          ]
        }
      ],
      "source": [
        "!pip uninstall pandas-profiling -y"
      ]
    },
    {
      "cell_type": "markdown",
      "metadata": {
        "id": "lzKWy4AEMs8o"
      },
      "source": [
        "Setting up environment"
      ]
    },
    {
      "cell_type": "code",
      "execution_count": 13,
      "metadata": {
        "colab": {
          "base_uri": "https://localhost:8080/"
        },
        "id": "jSkBWMNCLAaP",
        "outputId": "fc47564c-2a94-496d-8883-8c991c3a0d4e"
      },
      "outputs": [
        {
          "name": "stdout",
          "output_type": "stream",
          "text": [
            "Collecting pandas-profiling\n",
            "  Using cached pandas_profiling-3.2.0-py2.py3-none-any.whl.metadata (21 kB)\n",
            "Requirement already satisfied: joblib~=1.1.0 in /opt/anaconda3/lib/python3.11/site-packages (from pandas-profiling) (1.1.1)\n",
            "Requirement already satisfied: scipy>=1.4.1 in /opt/anaconda3/lib/python3.11/site-packages (from pandas-profiling) (1.11.4)\n",
            "Requirement already satisfied: pandas!=1.0.0,!=1.0.1,!=1.0.2,!=1.1.0,>=0.25.3 in /opt/anaconda3/lib/python3.11/site-packages (from pandas-profiling) (2.1.4)\n",
            "Requirement already satisfied: matplotlib>=3.2.0 in /opt/anaconda3/lib/python3.11/site-packages (from pandas-profiling) (3.8.0)\n",
            "Requirement already satisfied: pydantic>=1.8.1 in /opt/anaconda3/lib/python3.11/site-packages (from pandas-profiling) (2.7.3)\n",
            "Requirement already satisfied: PyYAML>=5.0.0 in /opt/anaconda3/lib/python3.11/site-packages (from pandas-profiling) (6.0.1)\n",
            "Requirement already satisfied: jinja2>=2.11.1 in /opt/anaconda3/lib/python3.11/site-packages (from pandas-profiling) (3.1.3)\n",
            "Requirement already satisfied: markupsafe~=2.1.1 in /opt/anaconda3/lib/python3.11/site-packages (from pandas-profiling) (2.1.3)\n",
            "Requirement already satisfied: visions==0.7.4 in /opt/anaconda3/lib/python3.11/site-packages (from visions[type_image_path]==0.7.4->pandas-profiling) (0.7.4)\n",
            "Requirement already satisfied: numpy>=1.16.0 in /opt/anaconda3/lib/python3.11/site-packages (from pandas-profiling) (1.26.4)\n",
            "Requirement already satisfied: htmlmin>=0.1.12 in /opt/anaconda3/lib/python3.11/site-packages (from pandas-profiling) (0.1.12)\n",
            "Requirement already satisfied: missingno>=0.4.2 in /opt/anaconda3/lib/python3.11/site-packages (from pandas-profiling) (0.5.2)\n",
            "Requirement already satisfied: phik>=0.11.1 in /opt/anaconda3/lib/python3.11/site-packages (from pandas-profiling) (0.12.4)\n",
            "Requirement already satisfied: tangled-up-in-unicode==0.2.0 in /opt/anaconda3/lib/python3.11/site-packages (from pandas-profiling) (0.2.0)\n",
            "Requirement already satisfied: requests>=2.24.0 in /opt/anaconda3/lib/python3.11/site-packages (from pandas-profiling) (2.31.0)\n",
            "Requirement already satisfied: tqdm>=4.48.2 in /opt/anaconda3/lib/python3.11/site-packages (from pandas-profiling) (4.65.0)\n",
            "Requirement already satisfied: seaborn>=0.10.1 in /opt/anaconda3/lib/python3.11/site-packages (from pandas-profiling) (0.12.2)\n",
            "Requirement already satisfied: multimethod>=1.4 in /opt/anaconda3/lib/python3.11/site-packages (from pandas-profiling) (1.11.2)\n",
            "Requirement already satisfied: attrs>=19.3.0 in /opt/anaconda3/lib/python3.11/site-packages (from visions==0.7.4->visions[type_image_path]==0.7.4->pandas-profiling) (23.1.0)\n",
            "Requirement already satisfied: networkx>=2.4 in /opt/anaconda3/lib/python3.11/site-packages (from visions==0.7.4->visions[type_image_path]==0.7.4->pandas-profiling) (3.1)\n",
            "Requirement already satisfied: imagehash in /opt/anaconda3/lib/python3.11/site-packages (from visions[type_image_path]==0.7.4->pandas-profiling) (4.3.1)\n",
            "Requirement already satisfied: Pillow in /opt/anaconda3/lib/python3.11/site-packages (from visions[type_image_path]==0.7.4->pandas-profiling) (10.2.0)\n",
            "Requirement already satisfied: contourpy>=1.0.1 in /opt/anaconda3/lib/python3.11/site-packages (from matplotlib>=3.2.0->pandas-profiling) (1.2.0)\n",
            "Requirement already satisfied: cycler>=0.10 in /opt/anaconda3/lib/python3.11/site-packages (from matplotlib>=3.2.0->pandas-profiling) (0.11.0)\n",
            "Requirement already satisfied: fonttools>=4.22.0 in /opt/anaconda3/lib/python3.11/site-packages (from matplotlib>=3.2.0->pandas-profiling) (4.25.0)\n",
            "Requirement already satisfied: kiwisolver>=1.0.1 in /opt/anaconda3/lib/python3.11/site-packages (from matplotlib>=3.2.0->pandas-profiling) (1.4.4)\n",
            "Requirement already satisfied: packaging>=20.0 in /opt/anaconda3/lib/python3.11/site-packages (from matplotlib>=3.2.0->pandas-profiling) (23.1)\n",
            "Requirement already satisfied: pyparsing>=2.3.1 in /opt/anaconda3/lib/python3.11/site-packages (from matplotlib>=3.2.0->pandas-profiling) (3.0.9)\n",
            "Requirement already satisfied: python-dateutil>=2.7 in /opt/anaconda3/lib/python3.11/site-packages (from matplotlib>=3.2.0->pandas-profiling) (2.8.2)\n",
            "Requirement already satisfied: pytz>=2020.1 in /opt/anaconda3/lib/python3.11/site-packages (from pandas!=1.0.0,!=1.0.1,!=1.0.2,!=1.1.0,>=0.25.3->pandas-profiling) (2023.3.post1)\n",
            "Requirement already satisfied: tzdata>=2022.1 in /opt/anaconda3/lib/python3.11/site-packages (from pandas!=1.0.0,!=1.0.1,!=1.0.2,!=1.1.0,>=0.25.3->pandas-profiling) (2023.3)\n",
            "Requirement already satisfied: annotated-types>=0.4.0 in /opt/anaconda3/lib/python3.11/site-packages (from pydantic>=1.8.1->pandas-profiling) (0.7.0)\n",
            "Requirement already satisfied: pydantic-core==2.18.4 in /opt/anaconda3/lib/python3.11/site-packages (from pydantic>=1.8.1->pandas-profiling) (2.18.4)\n",
            "Requirement already satisfied: typing-extensions>=4.6.1 in /opt/anaconda3/lib/python3.11/site-packages (from pydantic>=1.8.1->pandas-profiling) (4.12.2)\n",
            "Requirement already satisfied: charset-normalizer<4,>=2 in /opt/anaconda3/lib/python3.11/site-packages (from requests>=2.24.0->pandas-profiling) (2.0.4)\n",
            "Requirement already satisfied: idna<4,>=2.5 in /opt/anaconda3/lib/python3.11/site-packages (from requests>=2.24.0->pandas-profiling) (3.4)\n",
            "Requirement already satisfied: urllib3<3,>=1.21.1 in /opt/anaconda3/lib/python3.11/site-packages (from requests>=2.24.0->pandas-profiling) (2.0.7)\n",
            "Requirement already satisfied: certifi>=2017.4.17 in /opt/anaconda3/lib/python3.11/site-packages (from requests>=2.24.0->pandas-profiling) (2024.2.2)\n",
            "Requirement already satisfied: six>=1.5 in /opt/anaconda3/lib/python3.11/site-packages (from python-dateutil>=2.7->matplotlib>=3.2.0->pandas-profiling) (1.16.0)\n",
            "Requirement already satisfied: PyWavelets in /opt/anaconda3/lib/python3.11/site-packages (from imagehash->visions[type_image_path]==0.7.4->pandas-profiling) (1.5.0)\n",
            "Using cached pandas_profiling-3.2.0-py2.py3-none-any.whl (262 kB)\n",
            "Installing collected packages: pandas-profiling\n",
            "Successfully installed pandas-profiling-3.2.0\n"
          ]
        }
      ],
      "source": [
        "!pip install pandas-profiling\n"
      ]
    },
    {
      "cell_type": "code",
      "execution_count": 14,
      "metadata": {
        "colab": {
          "base_uri": "https://localhost:8080/"
        },
        "id": "RC-2Ud49Uxzu",
        "outputId": "47069010-1ef1-4835-b6fd-0245f7560730"
      },
      "outputs": [
        {
          "name": "stdout",
          "output_type": "stream",
          "text": [
            "Requirement already satisfied: catboost in /opt/anaconda3/lib/python3.11/site-packages (1.2.5)\n",
            "Requirement already satisfied: graphviz in /opt/anaconda3/lib/python3.11/site-packages (from catboost) (0.20.3)\n",
            "Requirement already satisfied: matplotlib in /opt/anaconda3/lib/python3.11/site-packages (from catboost) (3.8.0)\n",
            "Requirement already satisfied: numpy>=1.16.0 in /opt/anaconda3/lib/python3.11/site-packages (from catboost) (1.26.4)\n",
            "Requirement already satisfied: pandas>=0.24 in /opt/anaconda3/lib/python3.11/site-packages (from catboost) (2.1.4)\n",
            "Requirement already satisfied: scipy in /opt/anaconda3/lib/python3.11/site-packages (from catboost) (1.11.4)\n",
            "Requirement already satisfied: plotly in /opt/anaconda3/lib/python3.11/site-packages (from catboost) (5.9.0)\n",
            "Requirement already satisfied: six in /opt/anaconda3/lib/python3.11/site-packages (from catboost) (1.16.0)\n",
            "Requirement already satisfied: python-dateutil>=2.8.2 in /opt/anaconda3/lib/python3.11/site-packages (from pandas>=0.24->catboost) (2.8.2)\n",
            "Requirement already satisfied: pytz>=2020.1 in /opt/anaconda3/lib/python3.11/site-packages (from pandas>=0.24->catboost) (2023.3.post1)\n",
            "Requirement already satisfied: tzdata>=2022.1 in /opt/anaconda3/lib/python3.11/site-packages (from pandas>=0.24->catboost) (2023.3)\n",
            "Requirement already satisfied: contourpy>=1.0.1 in /opt/anaconda3/lib/python3.11/site-packages (from matplotlib->catboost) (1.2.0)\n",
            "Requirement already satisfied: cycler>=0.10 in /opt/anaconda3/lib/python3.11/site-packages (from matplotlib->catboost) (0.11.0)\n",
            "Requirement already satisfied: fonttools>=4.22.0 in /opt/anaconda3/lib/python3.11/site-packages (from matplotlib->catboost) (4.25.0)\n",
            "Requirement already satisfied: kiwisolver>=1.0.1 in /opt/anaconda3/lib/python3.11/site-packages (from matplotlib->catboost) (1.4.4)\n",
            "Requirement already satisfied: packaging>=20.0 in /opt/anaconda3/lib/python3.11/site-packages (from matplotlib->catboost) (23.1)\n",
            "Requirement already satisfied: pillow>=6.2.0 in /opt/anaconda3/lib/python3.11/site-packages (from matplotlib->catboost) (10.2.0)\n",
            "Requirement already satisfied: pyparsing>=2.3.1 in /opt/anaconda3/lib/python3.11/site-packages (from matplotlib->catboost) (3.0.9)\n",
            "Requirement already satisfied: tenacity>=6.2.0 in /opt/anaconda3/lib/python3.11/site-packages (from plotly->catboost) (8.2.2)\n"
          ]
        }
      ],
      "source": [
        "!pip install catboost\n"
      ]
    },
    {
      "cell_type": "code",
      "execution_count": 38,
      "metadata": {},
      "outputs": [
        {
          "name": "stdout",
          "output_type": "stream",
          "text": [
            "\u001b[33mWARNING: Skipping ydata-profiling as it is not installed.\u001b[0m\u001b[33m\n",
            "\u001b[0m\u001b[33mWARNING: Skipping visions as it is not installed.\u001b[0m\u001b[33m\n",
            "\u001b[0m"
          ]
        }
      ],
      "source": [
        "!pip uninstall ydata-profiling visions -y\n"
      ]
    },
    {
      "cell_type": "code",
      "execution_count": 39,
      "metadata": {},
      "outputs": [
        {
          "name": "stdout",
          "output_type": "stream",
          "text": [
            "zsh:1: no matches found: visions[type_image_path]==0.7.5\n"
          ]
        }
      ],
      "source": [
        "!pip install ydata-profiling==4.8.3 visions[type_image_path]==0.7.5"
      ]
    },
    {
      "cell_type": "code",
      "execution_count": 23,
      "metadata": {},
      "outputs": [
        {
          "name": "stdout",
          "output_type": "stream",
          "text": [
            "Requirement already satisfied: numba in /opt/anaconda3/lib/python3.11/site-packages (0.60.0)\n",
            "Requirement already satisfied: llvmlite<0.44,>=0.43.0dev0 in /opt/anaconda3/lib/python3.11/site-packages (from numba) (0.43.0)\n",
            "Requirement already satisfied: numpy<2.1,>=1.22 in /opt/anaconda3/lib/python3.11/site-packages (from numba) (1.26.4)\n"
          ]
        }
      ],
      "source": [
        "!pip install --upgrade numba"
      ]
    },
    {
      "cell_type": "code",
      "execution_count": 41,
      "metadata": {},
      "outputs": [],
      "source": [
        "import ydata_profiling as pp"
      ]
    },
    {
      "cell_type": "code",
      "execution_count": 42,
      "metadata": {
        "id": "hlXp97pgNN1n"
      },
      "outputs": [],
      "source": [
        "import pandas as pd\n",
        "import sys\n",
        "import ydata_profiling as pp\n",
        "import numpy as np\n",
        "import matplotlib.pyplot as plt\n",
        "import seaborn as sns\n",
        "import plotly.express as px\n",
        "import warnings\n",
        "\n",
        "from sklearn import preprocessing\n",
        "from sklearn.model_selection import train_test_split, cross_val_score, learning_curve\n",
        "from sklearn.svm import SVC\n",
        "from sklearn.ensemble import RandomForestClassifier, AdaBoostClassifier\n",
        "from sklearn.naive_bayes import GaussianNB, BernoulliNB\n",
        "from sklearn.neighbors import KNeighborsClassifier\n",
        "from sklearn.linear_model import LogisticRegression, SGDClassifier\n",
        "from sklearn.tree import DecisionTreeClassifier\n",
        "from xgboost import XGBClassifier\n",
        "from catboost import CatBoostClassifier\n",
        "from sklearn.metrics import confusion_matrix, classification_report, f1_score, accuracy_score, precision_score, recall_score\n",
        "from sklearn.preprocessing import StandardScaler, OneHotEncoder, LabelEncoder\n",
        "from scipy.stats import norm, skew\n",
        "from sklearn.decomposition import PCA\n",
        "from sklearn.manifold import TSNE\n",
        "from keras import models, layers\n",
        "# Tensorflow libraries\n",
        "import tensorflow as tf\n",
        "from tensorflow import keras\n",
        "from keras import Sequential\n",
        "from tensorflow.keras.optimizers import Adam\n",
        "from keras.layers import Flatten, Dense, Dropout, BatchNormalization\n",
        "from keras.layers import Conv1D, MaxPool1D\n",
        "from imblearn.over_sampling import SMOTE\n",
        "\n",
        "warnings.filterwarnings('ignore')"
      ]
    },
    {
      "cell_type": "markdown",
      "metadata": {
        "id": "kA-YBegGN0rB"
      },
      "source": [
        "Loading Dataset\n"
      ]
    },
    {
      "cell_type": "code",
      "execution_count": 88,
      "metadata": {
        "colab": {
          "base_uri": "https://localhost:8080/",
          "height": 542
        },
        "id": "f5AZej41NN_G",
        "outputId": "4c914d21-1298-4a94-9165-00b9b2dfc766"
      },
      "outputs": [
        {
          "data": {
            "text/html": [
              "<div>\n",
              "<style scoped>\n",
              "    .dataframe tbody tr th:only-of-type {\n",
              "        vertical-align: middle;\n",
              "    }\n",
              "\n",
              "    .dataframe tbody tr th {\n",
              "        vertical-align: top;\n",
              "    }\n",
              "\n",
              "    .dataframe thead th {\n",
              "        text-align: right;\n",
              "    }\n",
              "</style>\n",
              "<table border=\"1\" class=\"dataframe\">\n",
              "  <thead>\n",
              "    <tr style=\"text-align: right;\">\n",
              "      <th></th>\n",
              "      <th>Unnamed: 0</th>\n",
              "      <th>trans_date_trans_time</th>\n",
              "      <th>cc_num</th>\n",
              "      <th>merchant</th>\n",
              "      <th>category</th>\n",
              "      <th>amt</th>\n",
              "      <th>first</th>\n",
              "      <th>last</th>\n",
              "      <th>gender</th>\n",
              "      <th>street</th>\n",
              "      <th>...</th>\n",
              "      <th>lat</th>\n",
              "      <th>long</th>\n",
              "      <th>city_pop</th>\n",
              "      <th>job</th>\n",
              "      <th>dob</th>\n",
              "      <th>trans_num</th>\n",
              "      <th>unix_time</th>\n",
              "      <th>merch_lat</th>\n",
              "      <th>merch_long</th>\n",
              "      <th>is_fraud</th>\n",
              "    </tr>\n",
              "  </thead>\n",
              "  <tbody>\n",
              "    <tr>\n",
              "      <th>0</th>\n",
              "      <td>1</td>\n",
              "      <td>2019-01-29 22:05:00</td>\n",
              "      <td>3.550000e+15</td>\n",
              "      <td>fraud_Parisian, Schiller and Altenwerth</td>\n",
              "      <td>misc_net</td>\n",
              "      <td>666.70</td>\n",
              "      <td>Cody</td>\n",
              "      <td>Blake</td>\n",
              "      <td>M</td>\n",
              "      <td>300 Hodge Loaf</td>\n",
              "      <td>...</td>\n",
              "      <td>29.7396</td>\n",
              "      <td>-95.4460</td>\n",
              "      <td>2906700</td>\n",
              "      <td>Community development worker</td>\n",
              "      <td>14-03-62</td>\n",
              "      <td>5ea472d933561e36dcad710839b9ed6b</td>\n",
              "      <td>1327874723</td>\n",
              "      <td>29.806815</td>\n",
              "      <td>-95.377033</td>\n",
              "      <td>1</td>\n",
              "    </tr>\n",
              "    <tr>\n",
              "      <th>1</th>\n",
              "      <td>2</td>\n",
              "      <td>2019-06-01 15:25:00</td>\n",
              "      <td>3.520000e+15</td>\n",
              "      <td>fraud_Hagenes, Kohler and Hoppe</td>\n",
              "      <td>food_dining</td>\n",
              "      <td>1.93</td>\n",
              "      <td>Micheal</td>\n",
              "      <td>Walters</td>\n",
              "      <td>M</td>\n",
              "      <td>15315 Vaughn Park Suite 356</td>\n",
              "      <td>...</td>\n",
              "      <td>47.8342</td>\n",
              "      <td>-90.0476</td>\n",
              "      <td>272</td>\n",
              "      <td>Freight forwarder</td>\n",
              "      <td>05-07-01</td>\n",
              "      <td>fb373b76f05670ce23402ace28650dfb</td>\n",
              "      <td>1325863529</td>\n",
              "      <td>46.835966</td>\n",
              "      <td>-89.251001</td>\n",
              "      <td>0</td>\n",
              "    </tr>\n",
              "    <tr>\n",
              "      <th>2</th>\n",
              "      <td>3</td>\n",
              "      <td>2019-01-13 17:49:00</td>\n",
              "      <td>3.760000e+14</td>\n",
              "      <td>fraud_Kilback LLC</td>\n",
              "      <td>food_dining</td>\n",
              "      <td>23.03</td>\n",
              "      <td>Rachel</td>\n",
              "      <td>Lowe</td>\n",
              "      <td>F</td>\n",
              "      <td>372 Jeffrey Course</td>\n",
              "      <td>...</td>\n",
              "      <td>41.1558</td>\n",
              "      <td>-101.1360</td>\n",
              "      <td>1789</td>\n",
              "      <td>Insurance broker</td>\n",
              "      <td>11-02-82</td>\n",
              "      <td>06f5d997085b59dda6dbf1ae2ed33b71</td>\n",
              "      <td>1326476990</td>\n",
              "      <td>41.938008</td>\n",
              "      <td>-101.775582</td>\n",
              "      <td>0</td>\n",
              "    </tr>\n",
              "    <tr>\n",
              "      <th>3</th>\n",
              "      <td>4</td>\n",
              "      <td>2019-03-04 23:48:00</td>\n",
              "      <td>5.140000e+15</td>\n",
              "      <td>fraud_Streich, Dietrich and Barton</td>\n",
              "      <td>shopping_net</td>\n",
              "      <td>994.00</td>\n",
              "      <td>Dakota</td>\n",
              "      <td>Fowler</td>\n",
              "      <td>M</td>\n",
              "      <td>16220 Joseph Point Suite 096</td>\n",
              "      <td>...</td>\n",
              "      <td>36.4657</td>\n",
              "      <td>-81.8140</td>\n",
              "      <td>13021</td>\n",
              "      <td>Tree surgeon</td>\n",
              "      <td>17-07-01</td>\n",
              "      <td>db194959b156dee693d5599a2ec54382</td>\n",
              "      <td>1333496912</td>\n",
              "      <td>37.324006</td>\n",
              "      <td>-80.905928</td>\n",
              "      <td>1</td>\n",
              "    </tr>\n",
              "    <tr>\n",
              "      <th>4</th>\n",
              "      <td>5</td>\n",
              "      <td>2019-08-01 15:12:00</td>\n",
              "      <td>3.550000e+15</td>\n",
              "      <td>fraud_Kuhic LLC</td>\n",
              "      <td>shopping_net</td>\n",
              "      <td>194.94</td>\n",
              "      <td>Sara</td>\n",
              "      <td>Harris</td>\n",
              "      <td>F</td>\n",
              "      <td>597 Jenny Ford Apt. 543</td>\n",
              "      <td>...</td>\n",
              "      <td>44.2320</td>\n",
              "      <td>-74.4905</td>\n",
              "      <td>6120</td>\n",
              "      <td>Chartered loss adjuster</td>\n",
              "      <td>09-10-76</td>\n",
              "      <td>69bf1ad18f8c2b366ffe8d7d8a55cf29</td>\n",
              "      <td>1326035535</td>\n",
              "      <td>44.126948</td>\n",
              "      <td>-74.685703</td>\n",
              "      <td>0</td>\n",
              "    </tr>\n",
              "  </tbody>\n",
              "</table>\n",
              "<p>5 rows × 23 columns</p>\n",
              "</div>"
            ],
            "text/plain": [
              "   Unnamed: 0 trans_date_trans_time        cc_num  \\\n",
              "0           1   2019-01-29 22:05:00  3.550000e+15   \n",
              "1           2   2019-06-01 15:25:00  3.520000e+15   \n",
              "2           3   2019-01-13 17:49:00  3.760000e+14   \n",
              "3           4   2019-03-04 23:48:00  5.140000e+15   \n",
              "4           5   2019-08-01 15:12:00  3.550000e+15   \n",
              "\n",
              "                                  merchant      category     amt    first  \\\n",
              "0  fraud_Parisian, Schiller and Altenwerth      misc_net  666.70     Cody   \n",
              "1          fraud_Hagenes, Kohler and Hoppe   food_dining    1.93  Micheal   \n",
              "2                        fraud_Kilback LLC   food_dining   23.03   Rachel   \n",
              "3       fraud_Streich, Dietrich and Barton  shopping_net  994.00   Dakota   \n",
              "4                          fraud_Kuhic LLC  shopping_net  194.94     Sara   \n",
              "\n",
              "      last gender                        street  ...      lat      long  \\\n",
              "0    Blake      M                300 Hodge Loaf  ...  29.7396  -95.4460   \n",
              "1  Walters      M   15315 Vaughn Park Suite 356  ...  47.8342  -90.0476   \n",
              "2     Lowe      F            372 Jeffrey Course  ...  41.1558 -101.1360   \n",
              "3   Fowler      M  16220 Joseph Point Suite 096  ...  36.4657  -81.8140   \n",
              "4   Harris      F       597 Jenny Ford Apt. 543  ...  44.2320  -74.4905   \n",
              "\n",
              "   city_pop                           job       dob  \\\n",
              "0   2906700  Community development worker  14-03-62   \n",
              "1       272             Freight forwarder  05-07-01   \n",
              "2      1789              Insurance broker  11-02-82   \n",
              "3     13021                  Tree surgeon  17-07-01   \n",
              "4      6120       Chartered loss adjuster  09-10-76   \n",
              "\n",
              "                          trans_num   unix_time  merch_lat  merch_long  \\\n",
              "0  5ea472d933561e36dcad710839b9ed6b  1327874723  29.806815  -95.377033   \n",
              "1  fb373b76f05670ce23402ace28650dfb  1325863529  46.835966  -89.251001   \n",
              "2  06f5d997085b59dda6dbf1ae2ed33b71  1326476990  41.938008 -101.775582   \n",
              "3  db194959b156dee693d5599a2ec54382  1333496912  37.324006  -80.905928   \n",
              "4  69bf1ad18f8c2b366ffe8d7d8a55cf29  1326035535  44.126948  -74.685703   \n",
              "\n",
              "   is_fraud  \n",
              "0         1  \n",
              "1         0  \n",
              "2         0  \n",
              "3         1  \n",
              "4         0  \n",
              "\n",
              "[5 rows x 23 columns]"
            ]
          },
          "execution_count": 88,
          "metadata": {},
          "output_type": "execute_result"
        }
      ],
      "source": [
        "data=pd.read_csv('/content/sample_data/payment.csv',parse_dates=['trans_date_trans_time',]) #file path needs to be modified\n",
        "data.head()\n"
      ]
    },
    {
      "cell_type": "markdown",
      "metadata": {
        "id": "fIU5ePwAN4pR"
      },
      "source": [
        "Data cleaning and pre-processing\n",
        "\n"
      ]
    },
    {
      "cell_type": "code",
      "execution_count": 45,
      "metadata": {
        "colab": {
          "base_uri": "https://localhost:8080/"
        },
        "id": "R8EEZKu-NOBH",
        "outputId": "59e23b7a-5db7-4ad0-c4b4-bcbae9e612bd"
      },
      "outputs": [
        {
          "name": "stdout",
          "output_type": "stream",
          "text": [
            "<class 'pandas.core.frame.DataFrame'>\n",
            "RangeIndex: 36000 entries, 0 to 35999\n",
            "Data columns (total 23 columns):\n",
            " #   Column                 Non-Null Count  Dtype  \n",
            "---  ------                 --------------  -----  \n",
            " 0   Unnamed: 0             36000 non-null  int64  \n",
            " 1   trans_date_trans_time  36000 non-null  object \n",
            " 2   cc_num                 36000 non-null  float64\n",
            " 3   merchant               36000 non-null  object \n",
            " 4   category               36000 non-null  object \n",
            " 5   amt                    36000 non-null  float64\n",
            " 6   first                  36000 non-null  object \n",
            " 7   last                   36000 non-null  object \n",
            " 8   gender                 36000 non-null  object \n",
            " 9   street                 36000 non-null  object \n",
            " 10  city                   36000 non-null  object \n",
            " 11  state                  36000 non-null  object \n",
            " 12  zip                    36000 non-null  int64  \n",
            " 13  lat                    36000 non-null  float64\n",
            " 14  long                   36000 non-null  float64\n",
            " 15  city_pop               36000 non-null  int64  \n",
            " 16  job                    36000 non-null  object \n",
            " 17  dob                    36000 non-null  object \n",
            " 18  trans_num              36000 non-null  object \n",
            " 19  unix_time              36000 non-null  int64  \n",
            " 20  merch_lat              36000 non-null  float64\n",
            " 21  merch_long             36000 non-null  float64\n",
            " 22  is_fraud               36000 non-null  int64  \n",
            "dtypes: float64(6), int64(5), object(12)\n",
            "memory usage: 6.3+ MB\n"
          ]
        }
      ],
      "source": [
        "data.info()"
      ]
    },
    {
      "cell_type": "code",
      "execution_count": 46,
      "metadata": {
        "colab": {
          "base_uri": "https://localhost:8080/"
        },
        "id": "8wMr_-6GNODv",
        "outputId": "4284347c-e62f-4150-f7a0-53c710ed13e9"
      },
      "outputs": [
        {
          "data": {
            "text/plain": [
              "Unnamed: 0               36000\n",
              "trans_date_trans_time    22739\n",
              "cc_num                     320\n",
              "merchant                   693\n",
              "category                    14\n",
              "amt                      17206\n",
              "first                      348\n",
              "last                       479\n",
              "gender                       2\n",
              "street                     965\n",
              "city                       879\n",
              "state                       51\n",
              "zip                        952\n",
              "lat                        950\n",
              "long                       951\n",
              "city_pop                   865\n",
              "job                        493\n",
              "dob                        950\n",
              "trans_num                36000\n",
              "unix_time                35650\n",
              "merch_lat                35960\n",
              "merch_long               35981\n",
              "is_fraud                     2\n",
              "dtype: int64"
            ]
          },
          "execution_count": 46,
          "metadata": {},
          "output_type": "execute_result"
        }
      ],
      "source": [
        "data.nunique()\n"
      ]
    },
    {
      "cell_type": "code",
      "execution_count": null,
      "metadata": {
        "colab": {
          "base_uri": "https://localhost:8080/"
        },
        "id": "dlJcuDfoNOGe",
        "outputId": "c58916aa-bc00-4476-f2d8-4ecb44ec3e9d"
      },
      "outputs": [
        {
          "name": "stdout",
          "output_type": "stream",
          "text": [
            "NULL values:\n",
            " Unnamed: 0               0\n",
            "trans_date_trans_time    0\n",
            "cc_num                   0\n",
            "merchant                 0\n",
            "category                 0\n",
            "amt                      0\n",
            "first                    0\n",
            "last                     0\n",
            "gender                   0\n",
            "street                   0\n",
            "city                     0\n",
            "state                    0\n",
            "zip                      0\n",
            "lat                      0\n",
            "long                     0\n",
            "city_pop                 0\n",
            "job                      0\n",
            "dob                      0\n",
            "trans_num                0\n",
            "unix_time                0\n",
            "merch_lat                0\n",
            "merch_long               0\n",
            "is_fraud                 0\n",
            "dtype: int64\n"
          ]
        }
      ],
      "source": [
        "print(\"NULL values:\\n\", data.isnull().sum())"
      ]
    },
    {
      "cell_type": "code",
      "execution_count": null,
      "metadata": {
        "colab": {
          "base_uri": "https://localhost:8080/"
        },
        "id": "oKqMqs_MOaxu",
        "outputId": "72783cf2-c355-44f8-db73-9209bf7ca362"
      },
      "outputs": [
        {
          "name": "stdout",
          "output_type": "stream",
          "text": [
            "Duplicate Rows: 0\n"
          ]
        }
      ],
      "source": [
        "print(\"Duplicate Rows:\", data.duplicated().sum())"
      ]
    },
    {
      "cell_type": "code",
      "execution_count": null,
      "metadata": {
        "id": "MJHHcqtKOa0M"
      },
      "outputs": [],
      "source": [
        "# Adding Age feature from dob and transaction date\n",
        "\n",
        "data['trans_date_trans_time'] = pd.to_datetime(data['trans_date_trans_time'])\n",
        "data['dob'] = pd.to_datetime(data['dob'])\n",
        "\n",
        "# Calculate age in years and convert to integer\n",
        "data['age'] = abs((data['trans_date_trans_time'] - data['dob']) / np.timedelta64(1, 'Y')).astype(int)\n"
      ]
    },
    {
      "cell_type": "code",
      "execution_count": null,
      "metadata": {
        "colab": {
          "base_uri": "https://localhost:8080/",
          "height": 542
        },
        "id": "wryXZXF9Oa2z",
        "outputId": "3397c1e3-07ca-4102-c9d4-3e4cfc8d4640"
      },
      "outputs": [
        {
          "data": {
            "application/vnd.google.colaboratory.intrinsic+json": {
              "type": "dataframe",
              "variable_name": "data"
            },
            "text/html": [
              "\n",
              "  <div id=\"df-adad59b4-ce96-4e09-8531-a0971f1cfd37\" class=\"colab-df-container\">\n",
              "    <div>\n",
              "<style scoped>\n",
              "    .dataframe tbody tr th:only-of-type {\n",
              "        vertical-align: middle;\n",
              "    }\n",
              "\n",
              "    .dataframe tbody tr th {\n",
              "        vertical-align: top;\n",
              "    }\n",
              "\n",
              "    .dataframe thead th {\n",
              "        text-align: right;\n",
              "    }\n",
              "</style>\n",
              "<table border=\"1\" class=\"dataframe\">\n",
              "  <thead>\n",
              "    <tr style=\"text-align: right;\">\n",
              "      <th></th>\n",
              "      <th>Unnamed: 0</th>\n",
              "      <th>trans_date_trans_time</th>\n",
              "      <th>cc_num</th>\n",
              "      <th>merchant</th>\n",
              "      <th>category</th>\n",
              "      <th>amt</th>\n",
              "      <th>first</th>\n",
              "      <th>last</th>\n",
              "      <th>gender</th>\n",
              "      <th>street</th>\n",
              "      <th>...</th>\n",
              "      <th>long</th>\n",
              "      <th>city_pop</th>\n",
              "      <th>job</th>\n",
              "      <th>dob</th>\n",
              "      <th>trans_num</th>\n",
              "      <th>unix_time</th>\n",
              "      <th>merch_lat</th>\n",
              "      <th>merch_long</th>\n",
              "      <th>is_fraud</th>\n",
              "      <th>age</th>\n",
              "    </tr>\n",
              "  </thead>\n",
              "  <tbody>\n",
              "    <tr>\n",
              "      <th>0</th>\n",
              "      <td>1</td>\n",
              "      <td>2019-01-29 22:05:00</td>\n",
              "      <td>3.550000e+15</td>\n",
              "      <td>fraud_Parisian, Schiller and Altenwerth</td>\n",
              "      <td>misc_net</td>\n",
              "      <td>666.70</td>\n",
              "      <td>Cody</td>\n",
              "      <td>Blake</td>\n",
              "      <td>M</td>\n",
              "      <td>300 Hodge Loaf</td>\n",
              "      <td>...</td>\n",
              "      <td>-95.4460</td>\n",
              "      <td>2906700</td>\n",
              "      <td>Community development worker</td>\n",
              "      <td>2062-03-14</td>\n",
              "      <td>5ea472d933561e36dcad710839b9ed6b</td>\n",
              "      <td>1327874723</td>\n",
              "      <td>29.806815</td>\n",
              "      <td>-95.377033</td>\n",
              "      <td>1</td>\n",
              "      <td>43</td>\n",
              "    </tr>\n",
              "    <tr>\n",
              "      <th>1</th>\n",
              "      <td>2</td>\n",
              "      <td>2019-06-01 15:25:00</td>\n",
              "      <td>3.520000e+15</td>\n",
              "      <td>fraud_Hagenes, Kohler and Hoppe</td>\n",
              "      <td>food_dining</td>\n",
              "      <td>1.93</td>\n",
              "      <td>Micheal</td>\n",
              "      <td>Walters</td>\n",
              "      <td>M</td>\n",
              "      <td>15315 Vaughn Park Suite 356</td>\n",
              "      <td>...</td>\n",
              "      <td>-90.0476</td>\n",
              "      <td>272</td>\n",
              "      <td>Freight forwarder</td>\n",
              "      <td>2001-05-07</td>\n",
              "      <td>fb373b76f05670ce23402ace28650dfb</td>\n",
              "      <td>1325863529</td>\n",
              "      <td>46.835966</td>\n",
              "      <td>-89.251001</td>\n",
              "      <td>0</td>\n",
              "      <td>18</td>\n",
              "    </tr>\n",
              "    <tr>\n",
              "      <th>2</th>\n",
              "      <td>3</td>\n",
              "      <td>2019-01-13 17:49:00</td>\n",
              "      <td>3.760000e+14</td>\n",
              "      <td>fraud_Kilback LLC</td>\n",
              "      <td>food_dining</td>\n",
              "      <td>23.03</td>\n",
              "      <td>Rachel</td>\n",
              "      <td>Lowe</td>\n",
              "      <td>F</td>\n",
              "      <td>372 Jeffrey Course</td>\n",
              "      <td>...</td>\n",
              "      <td>-101.1360</td>\n",
              "      <td>1789</td>\n",
              "      <td>Insurance broker</td>\n",
              "      <td>1982-11-02</td>\n",
              "      <td>06f5d997085b59dda6dbf1ae2ed33b71</td>\n",
              "      <td>1326476990</td>\n",
              "      <td>41.938008</td>\n",
              "      <td>-101.775582</td>\n",
              "      <td>0</td>\n",
              "      <td>36</td>\n",
              "    </tr>\n",
              "    <tr>\n",
              "      <th>3</th>\n",
              "      <td>4</td>\n",
              "      <td>2019-03-04 23:48:00</td>\n",
              "      <td>5.140000e+15</td>\n",
              "      <td>fraud_Streich, Dietrich and Barton</td>\n",
              "      <td>shopping_net</td>\n",
              "      <td>994.00</td>\n",
              "      <td>Dakota</td>\n",
              "      <td>Fowler</td>\n",
              "      <td>M</td>\n",
              "      <td>16220 Joseph Point Suite 096</td>\n",
              "      <td>...</td>\n",
              "      <td>-81.8140</td>\n",
              "      <td>13021</td>\n",
              "      <td>Tree surgeon</td>\n",
              "      <td>2001-07-17</td>\n",
              "      <td>db194959b156dee693d5599a2ec54382</td>\n",
              "      <td>1333496912</td>\n",
              "      <td>37.324006</td>\n",
              "      <td>-80.905928</td>\n",
              "      <td>1</td>\n",
              "      <td>17</td>\n",
              "    </tr>\n",
              "    <tr>\n",
              "      <th>4</th>\n",
              "      <td>5</td>\n",
              "      <td>2019-08-01 15:12:00</td>\n",
              "      <td>3.550000e+15</td>\n",
              "      <td>fraud_Kuhic LLC</td>\n",
              "      <td>shopping_net</td>\n",
              "      <td>194.94</td>\n",
              "      <td>Sara</td>\n",
              "      <td>Harris</td>\n",
              "      <td>F</td>\n",
              "      <td>597 Jenny Ford Apt. 543</td>\n",
              "      <td>...</td>\n",
              "      <td>-74.4905</td>\n",
              "      <td>6120</td>\n",
              "      <td>Chartered loss adjuster</td>\n",
              "      <td>1976-09-10</td>\n",
              "      <td>69bf1ad18f8c2b366ffe8d7d8a55cf29</td>\n",
              "      <td>1326035535</td>\n",
              "      <td>44.126948</td>\n",
              "      <td>-74.685703</td>\n",
              "      <td>0</td>\n",
              "      <td>42</td>\n",
              "    </tr>\n",
              "  </tbody>\n",
              "</table>\n",
              "<p>5 rows × 24 columns</p>\n",
              "</div>\n",
              "    <div class=\"colab-df-buttons\">\n",
              "\n",
              "  <div class=\"colab-df-container\">\n",
              "    <button class=\"colab-df-convert\" onclick=\"convertToInteractive('df-adad59b4-ce96-4e09-8531-a0971f1cfd37')\"\n",
              "            title=\"Convert this dataframe to an interactive table.\"\n",
              "            style=\"display:none;\">\n",
              "\n",
              "  <svg xmlns=\"http://www.w3.org/2000/svg\" height=\"24px\" viewBox=\"0 -960 960 960\">\n",
              "    <path d=\"M120-120v-720h720v720H120Zm60-500h600v-160H180v160Zm220 220h160v-160H400v160Zm0 220h160v-160H400v160ZM180-400h160v-160H180v160Zm440 0h160v-160H620v160ZM180-180h160v-160H180v160Zm440 0h160v-160H620v160Z\"/>\n",
              "  </svg>\n",
              "    </button>\n",
              "\n",
              "  <style>\n",
              "    .colab-df-container {\n",
              "      display:flex;\n",
              "      gap: 12px;\n",
              "    }\n",
              "\n",
              "    .colab-df-convert {\n",
              "      background-color: #E8F0FE;\n",
              "      border: none;\n",
              "      border-radius: 50%;\n",
              "      cursor: pointer;\n",
              "      display: none;\n",
              "      fill: #1967D2;\n",
              "      height: 32px;\n",
              "      padding: 0 0 0 0;\n",
              "      width: 32px;\n",
              "    }\n",
              "\n",
              "    .colab-df-convert:hover {\n",
              "      background-color: #E2EBFA;\n",
              "      box-shadow: 0px 1px 2px rgba(60, 64, 67, 0.3), 0px 1px 3px 1px rgba(60, 64, 67, 0.15);\n",
              "      fill: #174EA6;\n",
              "    }\n",
              "\n",
              "    .colab-df-buttons div {\n",
              "      margin-bottom: 4px;\n",
              "    }\n",
              "\n",
              "    [theme=dark] .colab-df-convert {\n",
              "      background-color: #3B4455;\n",
              "      fill: #D2E3FC;\n",
              "    }\n",
              "\n",
              "    [theme=dark] .colab-df-convert:hover {\n",
              "      background-color: #434B5C;\n",
              "      box-shadow: 0px 1px 3px 1px rgba(0, 0, 0, 0.15);\n",
              "      filter: drop-shadow(0px 1px 2px rgba(0, 0, 0, 0.3));\n",
              "      fill: #FFFFFF;\n",
              "    }\n",
              "  </style>\n",
              "\n",
              "    <script>\n",
              "      const buttonEl =\n",
              "        document.querySelector('#df-adad59b4-ce96-4e09-8531-a0971f1cfd37 button.colab-df-convert');\n",
              "      buttonEl.style.display =\n",
              "        google.colab.kernel.accessAllowed ? 'block' : 'none';\n",
              "\n",
              "      async function convertToInteractive(key) {\n",
              "        const element = document.querySelector('#df-adad59b4-ce96-4e09-8531-a0971f1cfd37');\n",
              "        const dataTable =\n",
              "          await google.colab.kernel.invokeFunction('convertToInteractive',\n",
              "                                                    [key], {});\n",
              "        if (!dataTable) return;\n",
              "\n",
              "        const docLinkHtml = 'Like what you see? Visit the ' +\n",
              "          '<a target=\"_blank\" href=https://colab.research.google.com/notebooks/data_table.ipynb>data table notebook</a>'\n",
              "          + ' to learn more about interactive tables.';\n",
              "        element.innerHTML = '';\n",
              "        dataTable['output_type'] = 'display_data';\n",
              "        await google.colab.output.renderOutput(dataTable, element);\n",
              "        const docLink = document.createElement('div');\n",
              "        docLink.innerHTML = docLinkHtml;\n",
              "        element.appendChild(docLink);\n",
              "      }\n",
              "    </script>\n",
              "  </div>\n",
              "\n",
              "\n",
              "<div id=\"df-7a297fc3-91be-4c61-aaa5-3bf55191d96a\">\n",
              "  <button class=\"colab-df-quickchart\" onclick=\"quickchart('df-7a297fc3-91be-4c61-aaa5-3bf55191d96a')\"\n",
              "            title=\"Suggest charts\"\n",
              "            style=\"display:none;\">\n",
              "\n",
              "<svg xmlns=\"http://www.w3.org/2000/svg\" height=\"24px\"viewBox=\"0 0 24 24\"\n",
              "     width=\"24px\">\n",
              "    <g>\n",
              "        <path d=\"M19 3H5c-1.1 0-2 .9-2 2v14c0 1.1.9 2 2 2h14c1.1 0 2-.9 2-2V5c0-1.1-.9-2-2-2zM9 17H7v-7h2v7zm4 0h-2V7h2v10zm4 0h-2v-4h2v4z\"/>\n",
              "    </g>\n",
              "</svg>\n",
              "  </button>\n",
              "\n",
              "<style>\n",
              "  .colab-df-quickchart {\n",
              "      --bg-color: #E8F0FE;\n",
              "      --fill-color: #1967D2;\n",
              "      --hover-bg-color: #E2EBFA;\n",
              "      --hover-fill-color: #174EA6;\n",
              "      --disabled-fill-color: #AAA;\n",
              "      --disabled-bg-color: #DDD;\n",
              "  }\n",
              "\n",
              "  [theme=dark] .colab-df-quickchart {\n",
              "      --bg-color: #3B4455;\n",
              "      --fill-color: #D2E3FC;\n",
              "      --hover-bg-color: #434B5C;\n",
              "      --hover-fill-color: #FFFFFF;\n",
              "      --disabled-bg-color: #3B4455;\n",
              "      --disabled-fill-color: #666;\n",
              "  }\n",
              "\n",
              "  .colab-df-quickchart {\n",
              "    background-color: var(--bg-color);\n",
              "    border: none;\n",
              "    border-radius: 50%;\n",
              "    cursor: pointer;\n",
              "    display: none;\n",
              "    fill: var(--fill-color);\n",
              "    height: 32px;\n",
              "    padding: 0;\n",
              "    width: 32px;\n",
              "  }\n",
              "\n",
              "  .colab-df-quickchart:hover {\n",
              "    background-color: var(--hover-bg-color);\n",
              "    box-shadow: 0 1px 2px rgba(60, 64, 67, 0.3), 0 1px 3px 1px rgba(60, 64, 67, 0.15);\n",
              "    fill: var(--button-hover-fill-color);\n",
              "  }\n",
              "\n",
              "  .colab-df-quickchart-complete:disabled,\n",
              "  .colab-df-quickchart-complete:disabled:hover {\n",
              "    background-color: var(--disabled-bg-color);\n",
              "    fill: var(--disabled-fill-color);\n",
              "    box-shadow: none;\n",
              "  }\n",
              "\n",
              "  .colab-df-spinner {\n",
              "    border: 2px solid var(--fill-color);\n",
              "    border-color: transparent;\n",
              "    border-bottom-color: var(--fill-color);\n",
              "    animation:\n",
              "      spin 1s steps(1) infinite;\n",
              "  }\n",
              "\n",
              "  @keyframes spin {\n",
              "    0% {\n",
              "      border-color: transparent;\n",
              "      border-bottom-color: var(--fill-color);\n",
              "      border-left-color: var(--fill-color);\n",
              "    }\n",
              "    20% {\n",
              "      border-color: transparent;\n",
              "      border-left-color: var(--fill-color);\n",
              "      border-top-color: var(--fill-color);\n",
              "    }\n",
              "    30% {\n",
              "      border-color: transparent;\n",
              "      border-left-color: var(--fill-color);\n",
              "      border-top-color: var(--fill-color);\n",
              "      border-right-color: var(--fill-color);\n",
              "    }\n",
              "    40% {\n",
              "      border-color: transparent;\n",
              "      border-right-color: var(--fill-color);\n",
              "      border-top-color: var(--fill-color);\n",
              "    }\n",
              "    60% {\n",
              "      border-color: transparent;\n",
              "      border-right-color: var(--fill-color);\n",
              "    }\n",
              "    80% {\n",
              "      border-color: transparent;\n",
              "      border-right-color: var(--fill-color);\n",
              "      border-bottom-color: var(--fill-color);\n",
              "    }\n",
              "    90% {\n",
              "      border-color: transparent;\n",
              "      border-bottom-color: var(--fill-color);\n",
              "    }\n",
              "  }\n",
              "</style>\n",
              "\n",
              "  <script>\n",
              "    async function quickchart(key) {\n",
              "      const quickchartButtonEl =\n",
              "        document.querySelector('#' + key + ' button');\n",
              "      quickchartButtonEl.disabled = true;  // To prevent multiple clicks.\n",
              "      quickchartButtonEl.classList.add('colab-df-spinner');\n",
              "      try {\n",
              "        const charts = await google.colab.kernel.invokeFunction(\n",
              "            'suggestCharts', [key], {});\n",
              "      } catch (error) {\n",
              "        console.error('Error during call to suggestCharts:', error);\n",
              "      }\n",
              "      quickchartButtonEl.classList.remove('colab-df-spinner');\n",
              "      quickchartButtonEl.classList.add('colab-df-quickchart-complete');\n",
              "    }\n",
              "    (() => {\n",
              "      let quickchartButtonEl =\n",
              "        document.querySelector('#df-7a297fc3-91be-4c61-aaa5-3bf55191d96a button');\n",
              "      quickchartButtonEl.style.display =\n",
              "        google.colab.kernel.accessAllowed ? 'block' : 'none';\n",
              "    })();\n",
              "  </script>\n",
              "</div>\n",
              "\n",
              "    </div>\n",
              "  </div>\n"
            ],
            "text/plain": [
              "   Unnamed: 0 trans_date_trans_time        cc_num  \\\n",
              "0           1   2019-01-29 22:05:00  3.550000e+15   \n",
              "1           2   2019-06-01 15:25:00  3.520000e+15   \n",
              "2           3   2019-01-13 17:49:00  3.760000e+14   \n",
              "3           4   2019-03-04 23:48:00  5.140000e+15   \n",
              "4           5   2019-08-01 15:12:00  3.550000e+15   \n",
              "\n",
              "                                  merchant      category     amt    first  \\\n",
              "0  fraud_Parisian, Schiller and Altenwerth      misc_net  666.70     Cody   \n",
              "1          fraud_Hagenes, Kohler and Hoppe   food_dining    1.93  Micheal   \n",
              "2                        fraud_Kilback LLC   food_dining   23.03   Rachel   \n",
              "3       fraud_Streich, Dietrich and Barton  shopping_net  994.00   Dakota   \n",
              "4                          fraud_Kuhic LLC  shopping_net  194.94     Sara   \n",
              "\n",
              "      last gender                        street  ...      long city_pop  \\\n",
              "0    Blake      M                300 Hodge Loaf  ...  -95.4460  2906700   \n",
              "1  Walters      M   15315 Vaughn Park Suite 356  ...  -90.0476      272   \n",
              "2     Lowe      F            372 Jeffrey Course  ... -101.1360     1789   \n",
              "3   Fowler      M  16220 Joseph Point Suite 096  ...  -81.8140    13021   \n",
              "4   Harris      F       597 Jenny Ford Apt. 543  ...  -74.4905     6120   \n",
              "\n",
              "                            job        dob                         trans_num  \\\n",
              "0  Community development worker 2062-03-14  5ea472d933561e36dcad710839b9ed6b   \n",
              "1             Freight forwarder 2001-05-07  fb373b76f05670ce23402ace28650dfb   \n",
              "2              Insurance broker 1982-11-02  06f5d997085b59dda6dbf1ae2ed33b71   \n",
              "3                  Tree surgeon 2001-07-17  db194959b156dee693d5599a2ec54382   \n",
              "4       Chartered loss adjuster 1976-09-10  69bf1ad18f8c2b366ffe8d7d8a55cf29   \n",
              "\n",
              "    unix_time  merch_lat  merch_long is_fraud  age  \n",
              "0  1327874723  29.806815  -95.377033        1   43  \n",
              "1  1325863529  46.835966  -89.251001        0   18  \n",
              "2  1326476990  41.938008 -101.775582        0   36  \n",
              "3  1333496912  37.324006  -80.905928        1   17  \n",
              "4  1326035535  44.126948  -74.685703        0   42  \n",
              "\n",
              "[5 rows x 24 columns]"
            ]
          },
          "execution_count": 18,
          "metadata": {},
          "output_type": "execute_result"
        }
      ],
      "source": [
        "data.head()"
      ]
    },
    {
      "cell_type": "markdown",
      "metadata": {
        "id": "wZY6UiWBQJHo"
      },
      "source": [
        "Dropping unnecessary features\n"
      ]
    },
    {
      "cell_type": "code",
      "execution_count": null,
      "metadata": {
        "colab": {
          "base_uri": "https://localhost:8080/"
        },
        "id": "W7FV3fFtOa5b",
        "outputId": "2407bc95-86de-472c-deeb-54ab2ffb87c6"
      },
      "outputs": [
        {
          "name": "stdout",
          "output_type": "stream",
          "text": [
            "<class 'pandas.core.frame.DataFrame'>\n",
            "RangeIndex: 36000 entries, 0 to 35999\n",
            "Data columns (total 19 columns):\n",
            " #   Column                 Non-Null Count  Dtype         \n",
            "---  ------                 --------------  -----         \n",
            " 0   trans_date_trans_time  36000 non-null  datetime64[ns]\n",
            " 1   merchant               36000 non-null  object        \n",
            " 2   category               36000 non-null  object        \n",
            " 3   amt                    36000 non-null  float64       \n",
            " 4   gender                 36000 non-null  object        \n",
            " 5   street                 36000 non-null  object        \n",
            " 6   city                   36000 non-null  object        \n",
            " 7   state                  36000 non-null  object        \n",
            " 8   zip                    36000 non-null  int64         \n",
            " 9   lat                    36000 non-null  float64       \n",
            " 10  long                   36000 non-null  float64       \n",
            " 11  city_pop               36000 non-null  int64         \n",
            " 12  job                    36000 non-null  object        \n",
            " 13  dob                    36000 non-null  datetime64[ns]\n",
            " 14  unix_time              36000 non-null  int64         \n",
            " 15  merch_lat              36000 non-null  float64       \n",
            " 16  merch_long             36000 non-null  float64       \n",
            " 17  is_fraud               36000 non-null  int64         \n",
            " 18  age                    36000 non-null  int64         \n",
            "dtypes: datetime64[ns](2), float64(5), int64(5), object(7)\n",
            "memory usage: 5.2+ MB\n"
          ]
        }
      ],
      "source": [
        "#columns_to_drop = [\"Unnamed: 0\", \"cc_num\"]\n",
        "columns_to_drop = [\"Unnamed: 0\",\"first\",\"last\",\"trans_num\",\"cc_num\"]\n",
        "data.drop(columns=columns_to_drop, axis=1, inplace=True)\n",
        "data.info()"
      ]
    },
    {
      "cell_type": "markdown",
      "metadata": {
        "id": "OwM1mNzJQYQW"
      },
      "source": [
        "Corrlation Matrix between all\n",
        "features\n"
      ]
    },
    {
      "cell_type": "code",
      "execution_count": null,
      "metadata": {
        "colab": {
          "base_uri": "https://localhost:8080/",
          "height": 640
        },
        "id": "ZJfhMtRlQbcK",
        "outputId": "6ffe3ce8-d63f-45b5-8a24-041dc5b11953"
      },
      "outputs": [
        {
          "data": {
            "image/png": "[encoded data removed]",
            "text/plain": [
              "<Figure size 1200x1000 with 2 Axes>"
            ]
          },
          "metadata": {},
          "output_type": "display_data"
        }
      ],
      "source": [
        "\n",
        "# Select only numeric columns\n",
        "numeric_data = data.select_dtypes(include=[np.number])\n",
        "\n",
        "# Calculate the correlation matrix and round to 1 decimal place\n",
        "corr = numeric_data.corr().round(1)\n",
        "\n",
        "# Plotting the heatmap\n",
        "plt.figure(figsize=(12, 10))\n",
        "ax = sns.heatmap(corr, annot=True, cmap='Pastel2', fmt='.1f', linewidths=0.5, annot_kws={\"size\": 12})\n",
        "plt.title(\"Credit Card Fraud - Correlation Heatmap\", color=\"white\", size=20)\n",
        "plt.tight_layout()\n",
        "plt.show()"
      ]
    },
    {
      "cell_type": "code",
      "execution_count": null,
      "metadata": {
        "id": "Zsr0SWc1Oa8F"
      },
      "outputs": [],
      "source": [
        "# Lighter colors (pale yellow in the 'Pastel2' colormap) indicate weaker correlations (close to 0).\n",
        "# Darker colors (darker shades in 'Pastel2') indicate stronger correlations (close to -1 or 1).\n"
      ]
    },
    {
      "cell_type": "markdown",
      "metadata": {
        "id": "owP7BIrFOa-u"
      },
      "source": [
        "## Adding hour feature\n",
        "Here, first, we simply extract the hour. Then, we encode transactions done in normal hours 0500-2100 as normal (0) and transactions done in abnormal hours 2100-0500 as abnormal (1)"
      ]
    },
    {
      "cell_type": "code",
      "execution_count": 59,
      "metadata": {},
      "outputs": [],
      "source": [
        "data['hour'] = data.trans_date_trans_time.dt.hour\n",
        "data['hourEnc'] = 0\n",
        "data.loc[data.hour < 5,'hourEnc'] = 1\n",
        "data.loc[data.hour > 21,'hourEnc'] = 1"
      ]
    },
    {
      "cell_type": "markdown",
      "metadata": {},
      "source": [
        "## Adding frequencies of transactions\n",
        "Generating frequencies of transactions done in last 1/7/30 days."
      ]
    },
    {
      "cell_type": "code",
      "execution_count": 60,
      "metadata": {},
      "outputs": [],
      "source": [
        "def last1DayTransactionCount(x):\n",
        "    temp = pd.Series(x.index, index = x.trans_date_trans_time, name='count_1_day').sort_index()\n",
        "    count_1_day = temp.rolling('1d').count() - 1\n",
        "    count_1_day.index = temp.values\n",
        "    x['count_1_day'] = count_1_day.reindex(x.index)\n",
        "    return x\n",
        "def last7DaysTransactionCount(x):\n",
        "    temp = pd.Series(x.index, index = x.trans_date_trans_time, name='count_7_days').sort_index()\n",
        "    count_7_days = temp.rolling('7d').count() - 1\n",
        "    count_7_days.index = temp.values\n",
        "    x['count_7_days'] = count_7_days.reindex(x.index)\n",
        "    return x\n",
        "def last30DaysTransactionCount(x):\n",
        "    temp = pd.Series(x.index, index = x.trans_date_trans_time, name='count_30_days').sort_index()\n",
        "    count_30_days = temp.rolling('30d').count() - 1\n",
        "    count_30_days.index = temp.values\n",
        "    x['count_30_days'] = count_30_days.reindex(x.index)\n",
        "    return x"
      ]
    },
    {
      "cell_type": "code",
      "execution_count": 61,
      "metadata": {},
      "outputs": [],
      "source": [
        "df1 = data.groupby('cc_num').apply(last1DayTransactionCount)"
      ]
    },
    {
      "cell_type": "code",
      "execution_count": 72,
      "metadata": {},
      "outputs": [],
      "source": [
        "df1 = data.groupby('cc_num').apply(last7DaysTransactionCount)"
      ]
    },
    {
      "cell_type": "code",
      "execution_count": 66,
      "metadata": {},
      "outputs": [],
      "source": [
        "df1 = data.groupby('cc_num').apply(last30DaysTransactionCount)"
      ]
    },
    {
      "cell_type": "markdown",
      "metadata": {},
      "source": [
        "## Adding times since last transaction - time_diff"
      ]
    },
    {
      "cell_type": "code",
      "execution_count": 69,
      "metadata": {},
      "outputs": [],
      "source": [
        "def timeDifferenceforTransactions(x):\n",
        "    x['time_diff'] = x.trans_date_trans_time - x.trans_date_trans_time.shift()\n",
        "    return x"
      ]
    },
    {
      "cell_type": "code",
      "execution_count": 73,
      "metadata": {},
      "outputs": [],
      "source": [
        "df1 = data.groupby('cc_num').apply(timeDifferenceforTransactions)"
      ]
    },
    {
      "cell_type": "code",
      "execution_count": 74,
      "metadata": {},
      "outputs": [],
      "source": [
        "df1['time_diff'] = df1['time_diff'].dt.seconds"
      ]
    },
    {
      "cell_type": "markdown",
      "metadata": {
        "id": "61n315MjSr3W"
      },
      "source": [
        "Scaling data\n"
      ]
    },
    {
      "cell_type": "code",
      "execution_count": 80,
      "metadata": {},
      "outputs": [
        {
          "data": {
            "text/plain": [
              "<Figure size 1000x600 with 0 Axes>"
            ]
          },
          "metadata": {},
          "output_type": "display_data"
        },
        {
          "data": {
            "image/png": "[encoded data removed]",
            "text/plain": [
              "<Figure size 1000x600 with 1 Axes>"
            ]
          },
          "metadata": {},
          "output_type": "display_data"
        }
      ],
      "source": [
        "import matplotlib.pyplot as plt\n",
        "\n",
        "# Extracting hour of the day from the trans_date_trans_time column\n",
        "df1['hour_of_day'] = df1['trans_date_trans_time'].dt.hour\n",
        "\n",
        "# Grouping by hour of day and count the number of transactions\n",
        "hourly_transactions = df1.groupby('hour_of_day')['cc_num'].count()\n",
        "\n",
        "# Plotting the frequency of transactions during a time of day\n",
        "plt.figure(figsize=(10, 6))\n",
        "plt.figure(figsize=(10, 6), facecolor='lightgray')\n",
        "plt.plot(hourly_transactions.index, hourly_transactions.values, color='orange')\n",
        "plt.xlabel('Hour of Day')\n",
        "plt.ylabel('Number of Transactions')\n",
        "plt.title('Frequency of Transactions by Hour of Day')\n",
        "plt.grid(True)\n",
        "\n",
        "# Changing the background color of the graph using axis function\n",
        "ax = plt.gca()\n",
        "ax.patch.set_facecolor('lightblue')\n",
        "\n",
        "plt.show()"
      ]
    },
    {
      "cell_type": "code",
      "execution_count": 48,
      "metadata": {
        "colab": {
          "base_uri": "https://localhost:8080/",
          "height": 315
        },
        "id": "nQ0nLzH2ObBW",
        "outputId": "57a3d9ae-7bec-4e72-c508-b470b0fd776b"
      },
      "outputs": [
        {
          "data": {
            "image/png": "[encoded data removed]",
            "text/plain": [
              "<Figure size 1400x600 with 2 Axes>"
            ]
          },
          "metadata": {},
          "output_type": "display_data"
        }
      ],
      "source": [
        "# Number of Fraud and Not-Fraud Cases\n",
        "# Count the number of fraud cases\n",
        "fraud_counts = data[\"is_fraud\"].value_counts()\n",
        "fraud_labels = fraud_counts.index.tolist()\n",
        "fraud_values = fraud_counts.tolist()\n",
        "\n",
        "# Create a figure with one row and two columns for side-by-side plots\n",
        "fig, axes = plt.subplots(1, 2, figsize=(14, 6))\n",
        "\n",
        "# Plot the bar chart on the first subplot (axes[0])\n",
        "axes[0].bar(['Not Fraud', 'Fraud'], fraud_values, color=['lightgreen', 'lightcoral'])\n",
        "for i, v in enumerate(fraud_values):\n",
        "    axes[0].text(i, v, str(v), ha='center', va='bottom', fontweight='bold', fontsize=12)\n",
        "\n",
        "axes[0].set_title('Number of Fraud and Non-Fraud Cases')\n",
        "axes[0].set_xlabel('Fraud Status')\n",
        "axes[0].set_ylabel('Count')\n",
        "\n",
        "# Create a pie chart on the second subplot (axes[1])\n",
        "axes[1].pie(fraud_values, labels=['Not Fraud', 'Fraud'], autopct='%1.1f%%', startangle=90,explode = (0.1,0), colors=['lightblue', 'lightpink'],\n",
        "            wedgeprops={'edgecolor': 'black', 'linewidth': 1, 'antialiased': True})\n",
        "axes[1].set_title('Fraud Cases')\n",
        "axes[1].axis('equal')  # Equal aspect ratio ensures that pie is drawn as a circle.\n",
        "\n",
        "# Adjust the layout and display the plots\n",
        "plt.tight_layout()\n",
        "plt.show()"
      ]
    },
    {
      "cell_type": "code",
      "execution_count": null,
      "metadata": {
        "id": "qCZtgd5AObED"
      },
      "outputs": [],
      "source": []
    },
    {
      "cell_type": "code",
      "execution_count": null,
      "metadata": {
        "id": "8vp970wSObG5"
      },
      "outputs": [],
      "source": []
    }
  ],
  "metadata": {
    "colab": {
      "provenance": []
    },
    "kernelspec": {
      "display_name": "Python 3 (ipykernel)",
      "language": "python",
      "name": "python3"
    },
    "language_info": {
      "codemirror_mode": {
        "name": "ipython",
        "version": 3
      },
      "file_extension": ".py",
      "mimetype": "text/x-python",
      "name": "python",
      "nbconvert_exporter": "python",
      "pygments_lexer": "ipython3",
      "version": "3.11.7"
    }
  },
  "nbformat": 4,
  "nbformat_minor": 0
}
